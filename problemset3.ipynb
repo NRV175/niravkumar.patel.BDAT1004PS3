{
 "cells": [
  {
   "cell_type": "code",
   "execution_count": 1,
   "id": "ae8c139c-7a91-45e8-92f0-745ed55416d2",
   "metadata": {},
   "outputs": [],
   "source": [
    "#Question.1)\n",
    "#Introduction:\n",
    "#Special thanks to: https://github.com/justmarkham for sharing the dataset and materials.\n",
    "#Occupations\n",
    "#Step 1. Import the necessary libraries\n",
    "#Step 2. Import the dataset from this address.\n",
    "#Step 3. Assign it to a variable called users\n",
    "#Step 4. Discover what is the mean age per occupation\n",
    "#Step 5. Discover the Male ratio per occupation and sort it from the most to the least\n",
    "#Step 6. For each occupation, calculate the minimum and maximum ages\n",
    "#Step 7. For each combination of occupation and sex, calculate the mean age\n",
    "#Step 8. For each occupation present the percentage of women and men"
   ]
  },
  {
   "cell_type": "code",
   "execution_count": 3,
   "id": "44204392-939f-4392-8d31-e6e2b0a29b20",
   "metadata": {},
   "outputs": [],
   "source": [
    "#Ans.1)\n",
    "\n",
    "#Step1):-\n",
    "import pandas as pd\n"
   ]
  },
  {
   "cell_type": "code",
   "execution_count": 55,
   "id": "70878707-dcbe-4219-80ad-e89b4958a839",
   "metadata": {},
   "outputs": [
    {
     "name": "stdout",
     "output_type": "stream",
     "text": [
      "     user_id  age gender     occupation zip_code\n",
      "0          1   24      M     technician    85711\n",
      "1          2   53      F          other    94043\n",
      "2          3   23      M         writer    32067\n",
      "3          4   24      M     technician    43537\n",
      "4          5   33      F          other    15213\n",
      "..       ...  ...    ...            ...      ...\n",
      "938      939   26      F        student    33319\n",
      "939      940   32      M  administrator    02215\n",
      "940      941   20      M        student    97229\n",
      "941      942   48      F      librarian    78209\n",
      "942      943   22      M        student    77841\n",
      "\n",
      "[943 rows x 5 columns]\n"
     ]
    }
   ],
   "source": [
    "#Step.2&3):-\n",
    "url = \"https://raw.githubusercontent.com/justmarkham/DAT8/master/data/u.user\"\n",
    "users = pd.read_csv(url, sep='|') \n",
    "print(users)\n",
    "\n"
   ]
  },
  {
   "cell_type": "code",
   "execution_count": 9,
   "id": "c06040d2-f3ef-4ec5-b03c-336bb3467ef2",
   "metadata": {},
   "outputs": [
    {
     "name": "stdout",
     "output_type": "stream",
     "text": [
      "occupation\n",
      "administrator    38.746835\n",
      "artist           31.392857\n",
      "doctor           43.571429\n",
      "educator         42.010526\n",
      "engineer         36.388060\n",
      "entertainment    29.222222\n",
      "executive        38.718750\n",
      "healthcare       41.562500\n",
      "homemaker        32.571429\n",
      "lawyer           36.750000\n",
      "librarian        40.000000\n",
      "marketing        37.615385\n",
      "none             26.555556\n",
      "other            34.523810\n",
      "programmer       33.121212\n",
      "retired          63.071429\n",
      "salesman         35.666667\n",
      "scientist        35.548387\n",
      "student          22.081633\n",
      "technician       33.148148\n",
      "writer           36.311111\n",
      "Name: age, dtype: float64\n"
     ]
    }
   ],
   "source": [
    "#Step.4):-\n",
    "mean_age_per_occupation = users.groupby('occupation')['age'].mean()\n",
    "print(mean_age_per_occupation)\n"
   ]
  },
  {
   "cell_type": "code",
   "execution_count": 11,
   "id": "6de99bb9-b2a3-4dad-9e11-2212a900c6fc",
   "metadata": {},
   "outputs": [
    {
     "name": "stdout",
     "output_type": "stream",
     "text": [
      "occupation\n",
      "doctor           1.000000\n",
      "engineer         0.970149\n",
      "technician       0.962963\n",
      "retired          0.928571\n",
      "programmer       0.909091\n",
      "executive        0.906250\n",
      "scientist        0.903226\n",
      "entertainment    0.888889\n",
      "lawyer           0.833333\n",
      "salesman         0.750000\n",
      "educator         0.726316\n",
      "student          0.693878\n",
      "other            0.657143\n",
      "marketing        0.615385\n",
      "writer           0.577778\n",
      "none             0.555556\n",
      "administrator    0.544304\n",
      "artist           0.535714\n",
      "librarian        0.431373\n",
      "healthcare       0.312500\n",
      "homemaker        0.142857\n",
      "Name: gender, dtype: float64\n"
     ]
    }
   ],
   "source": [
    "#Step.5):-\n",
    "male_ratio_per_occupation = users[users['gender'] == 'M'].groupby('occupation')['gender'].count() / users.groupby('occupation')['gender'].count()\n",
    "male_ratio_sorted = male_ratio_per_occupation.sort_values(ascending=False)\n",
    "print(male_ratio_sorted)\n"
   ]
  },
  {
   "cell_type": "code",
   "execution_count": 13,
   "id": "649c8ec1-4f10-4405-b648-35e55681072e",
   "metadata": {},
   "outputs": [
    {
     "name": "stdout",
     "output_type": "stream",
     "text": [
      "               min  max\n",
      "occupation             \n",
      "administrator   21   70\n",
      "artist          19   48\n",
      "doctor          28   64\n",
      "educator        23   63\n",
      "engineer        22   70\n",
      "entertainment   15   50\n",
      "executive       22   69\n",
      "healthcare      22   62\n",
      "homemaker       20   50\n",
      "lawyer          21   53\n",
      "librarian       23   69\n",
      "marketing       24   55\n",
      "none            11   55\n",
      "other           13   64\n",
      "programmer      20   63\n",
      "retired         51   73\n",
      "salesman        18   66\n",
      "scientist       23   55\n",
      "student          7   42\n",
      "technician      21   55\n",
      "writer          18   60\n"
     ]
    }
   ],
   "source": [
    "#Step.6):-\n",
    "age_range_per_occupation = users.groupby('occupation')['age'].agg(['min', 'max'])\n",
    "print(age_range_per_occupation)\n"
   ]
  },
  {
   "cell_type": "code",
   "execution_count": 15,
   "id": "edfed170-53a7-4bfb-9c6f-96499065e8e4",
   "metadata": {},
   "outputs": [
    {
     "name": "stdout",
     "output_type": "stream",
     "text": [
      "gender                 F          M\n",
      "occupation                         \n",
      "administrator  40.638889  37.162791\n",
      "artist         30.307692  32.333333\n",
      "doctor               NaN  43.571429\n",
      "educator       39.115385  43.101449\n",
      "engineer       29.500000  36.600000\n",
      "entertainment  31.000000  29.000000\n",
      "executive      44.000000  38.172414\n",
      "healthcare     39.818182  45.400000\n",
      "homemaker      34.166667  23.000000\n",
      "lawyer         39.500000  36.200000\n",
      "librarian      40.000000  40.000000\n",
      "marketing      37.200000  37.875000\n",
      "none           36.500000  18.600000\n",
      "other          35.472222  34.028986\n",
      "programmer     32.166667  33.216667\n",
      "retired        70.000000  62.538462\n",
      "salesman       27.000000  38.555556\n",
      "scientist      28.333333  36.321429\n",
      "student        20.750000  22.669118\n",
      "technician     38.000000  32.961538\n",
      "writer         37.631579  35.346154\n"
     ]
    }
   ],
   "source": [
    "#Step.7):-\n",
    "mean_age_by_occupation_gender = users.pivot_table(values='age', index='occupation', columns='gender', aggfunc='mean')\n",
    "print(mean_age_by_occupation_gender)\n"
   ]
  },
  {
   "cell_type": "code",
   "execution_count": 17,
   "id": "1e040f7c-e937-4085-ba41-f8e946b853a0",
   "metadata": {},
   "outputs": [
    {
     "name": "stdout",
     "output_type": "stream",
     "text": [
      "gender             F       M\n",
      "occupation                  \n",
      "administrator  45.57   54.43\n",
      "artist         46.43   53.57\n",
      "doctor          0.00  100.00\n",
      "educator       27.37   72.63\n",
      "engineer        2.99   97.01\n",
      "entertainment  11.11   88.89\n",
      "executive       9.38   90.62\n",
      "healthcare     68.75   31.25\n",
      "homemaker      85.71   14.29\n",
      "lawyer         16.67   83.33\n",
      "librarian      56.86   43.14\n",
      "marketing      38.46   61.54\n",
      "none           44.44   55.56\n",
      "other          34.29   65.71\n",
      "programmer      9.09   90.91\n",
      "retired         7.14   92.86\n",
      "salesman       25.00   75.00\n",
      "scientist       9.68   90.32\n",
      "student        30.61   69.39\n",
      "technician      3.70   96.30\n",
      "writer         42.22   57.78\n"
     ]
    }
   ],
   "source": [
    "#Step.8):-\n",
    "gender_counts = users.groupby(['occupation', 'gender']).size().unstack(fill_value=0)\n",
    "gender_percentage = (gender_counts.div(gender_counts.sum(axis=1), axis=0) * 100).round(2)\n",
    "print(gender_percentage)\n",
    "\n"
   ]
  },
  {
   "cell_type": "code",
   "execution_count": 19,
   "id": "8bb7d61d-d239-4520-abed-e056a844ddc5",
   "metadata": {},
   "outputs": [],
   "source": [
    "#Question.2)\n",
    "#Euro Teams\n",
    "#Step 1. Import the necessary libraries\n",
    "#Step 2. Import the dataset from this address\n",
    "#Step 3. Assign it to a variable called euro12\n",
    "#Step 4. Select only the Goal column\n",
    "#Step 5. How many team participated in the Euro2012?\n",
    "#Step 6. What is the number of columns in the dataset?\n",
    "#Step 7. View only the columns Team, Yellow Cards and Red Cards and assign them to a dataframe called discipline\n",
    "#Step 8. Sort the teams by Red Cards, then to Yellow Cards\n",
    "#Step 9. Calculate the mean Yellow Cards given per Team\n",
    "#Step 10. Filter teams that scored more than 6 goals\n",
    "#Step 11. Select the teams that start with G\n",
    "#Step 12. Select the first 7 columns\n",
    "#Step 13. Select all columns except the last 3\n",
    "#Step 14. Present only the Shooting Accuracy from England, Italy and Russia"
   ]
  },
  {
   "cell_type": "code",
   "execution_count": 21,
   "id": "0a5ac424-4701-4108-8624-73e1e9e26f90",
   "metadata": {},
   "outputs": [],
   "source": [
    "#Ans.2)\n",
    "\n",
    "#Step.1):-\n",
    "import pandas as pd\n"
   ]
  },
  {
   "cell_type": "code",
   "execution_count": 57,
   "id": "63c52bcf-8876-48e9-a214-2b9293e6736f",
   "metadata": {},
   "outputs": [
    {
     "name": "stdout",
     "output_type": "stream",
     "text": [
      "                   Team  Goals  Shots on target  Shots off target  \\\n",
      "0               Croatia      4               13                12   \n",
      "1        Czech Republic      4               13                18   \n",
      "2               Denmark      4               10                10   \n",
      "3               England      5               11                18   \n",
      "4                France      3               22                24   \n",
      "5               Germany     10               32                32   \n",
      "6                Greece      5                8                18   \n",
      "7                 Italy      6               34                45   \n",
      "8           Netherlands      2               12                36   \n",
      "9                Poland      2               15                23   \n",
      "10             Portugal      6               22                42   \n",
      "11  Republic of Ireland      1                7                12   \n",
      "12               Russia      5                9                31   \n",
      "13                Spain     12               42                33   \n",
      "14               Sweden      5               17                19   \n",
      "15              Ukraine      2                7                26   \n",
      "\n",
      "   Shooting Accuracy % Goals-to-shots  Total shots (inc. Blocked)  \\\n",
      "0              51.9%            16.0%                          32   \n",
      "1              41.9%            12.9%                          39   \n",
      "2              50.0%            20.0%                          27   \n",
      "3              50.0%            17.2%                          40   \n",
      "4              37.9%             6.5%                          65   \n",
      "5              47.8%            15.6%                          80   \n",
      "6              30.7%            19.2%                          32   \n",
      "7              43.0%             7.5%                         110   \n",
      "8              25.0%             4.1%                          60   \n",
      "9              39.4%             5.2%                          48   \n",
      "10             34.3%             9.3%                          82   \n",
      "11             36.8%             5.2%                          28   \n",
      "12             22.5%            12.5%                          59   \n",
      "13             55.9%            16.0%                         100   \n",
      "14             47.2%            13.8%                          39   \n",
      "15             21.2%             6.0%                          38   \n",
      "\n",
      "    Hit Woodwork  Penalty goals  Penalties not scored  ...  Saves made  \\\n",
      "0              0              0                     0  ...          13   \n",
      "1              0              0                     0  ...           9   \n",
      "2              1              0                     0  ...          10   \n",
      "3              0              0                     0  ...          22   \n",
      "4              1              0                     0  ...           6   \n",
      "5              2              1                     0  ...          10   \n",
      "6              1              1                     1  ...          13   \n",
      "7              2              0                     0  ...          20   \n",
      "8              2              0                     0  ...          12   \n",
      "9              0              0                     0  ...           6   \n",
      "10             6              0                     0  ...          10   \n",
      "11             0              0                     0  ...          17   \n",
      "12             2              0                     0  ...          10   \n",
      "13             0              1                     0  ...          15   \n",
      "14             3              0                     0  ...           8   \n",
      "15             0              0                     0  ...          13   \n",
      "\n",
      "    Saves-to-shots ratio  Fouls Won Fouls Conceded  Offsides  Yellow Cards  \\\n",
      "0                  81.3%         41             62         2             9   \n",
      "1                  60.1%         53             73         8             7   \n",
      "2                  66.7%         25             38         8             4   \n",
      "3                  88.1%         43             45         6             5   \n",
      "4                  54.6%         36             51         5             6   \n",
      "5                  62.6%         63             49        12             4   \n",
      "6                  65.1%         67             48        12             9   \n",
      "7                  74.1%        101             89        16            16   \n",
      "8                  70.6%         35             30         3             5   \n",
      "9                  66.7%         48             56         3             7   \n",
      "10                 71.5%         73             90        10            12   \n",
      "11                 65.4%         43             51        11             6   \n",
      "12                 77.0%         34             43         4             6   \n",
      "13                 93.8%        102             83        19            11   \n",
      "14                 61.6%         35             51         7             7   \n",
      "15                 76.5%         48             31         4             5   \n",
      "\n",
      "    Red Cards  Subs on  Subs off  Players Used  \n",
      "0           0        9         9            16  \n",
      "1           0       11        11            19  \n",
      "2           0        7         7            15  \n",
      "3           0       11        11            16  \n",
      "4           0       11        11            19  \n",
      "5           0       15        15            17  \n",
      "6           1       12        12            20  \n",
      "7           0       18        18            19  \n",
      "8           0        7         7            15  \n",
      "9           1        7         7            17  \n",
      "10          0       14        14            16  \n",
      "11          1       10        10            17  \n",
      "12          0        7         7            16  \n",
      "13          0       17        17            18  \n",
      "14          0        9         9            18  \n",
      "15          0        9         9            18  \n",
      "\n",
      "[16 rows x 35 columns]\n"
     ]
    }
   ],
   "source": [
    "#Step.2&3)\n",
    "\n",
    "url = \"https://raw.githubusercontent.com/guipsamora/pandas_exercises/master/02_Filtering_%26_Sorting/Euro12/Euro_2012_stats_TEAM.csv\"\n",
    "euro12 = pd.read_csv(url)\n",
    "print(euro12)\n"
   ]
  },
  {
   "cell_type": "code",
   "execution_count": 25,
   "id": "ffd93f57-00ec-4ea3-80b4-c03a0c8f71a6",
   "metadata": {},
   "outputs": [
    {
     "name": "stdout",
     "output_type": "stream",
     "text": [
      "0      4\n",
      "1      4\n",
      "2      4\n",
      "3      5\n",
      "4      3\n",
      "5     10\n",
      "6      5\n",
      "7      6\n",
      "8      2\n",
      "9      2\n",
      "10     6\n",
      "11     1\n",
      "12     5\n",
      "13    12\n",
      "14     5\n",
      "15     2\n",
      "Name: Goals, dtype: int64\n"
     ]
    }
   ],
   "source": [
    "#Step.4)\n",
    "goals = euro12['Goals']\n",
    "print(goals)\n"
   ]
  },
  {
   "cell_type": "code",
   "execution_count": 27,
   "id": "6901a2e9-7230-48dd-ad84-94913dd641d1",
   "metadata": {},
   "outputs": [
    {
     "name": "stdout",
     "output_type": "stream",
     "text": [
      "Number of teams that participated: 16\n"
     ]
    }
   ],
   "source": [
    "#Step.5)\n",
    "num_teams = euro12['Team'].nunique()\n",
    "print(f\"Number of teams that participated: {num_teams}\")\n"
   ]
  },
  {
   "cell_type": "code",
   "execution_count": 29,
   "id": "6472a257-55dd-4eec-82ce-808642e10962",
   "metadata": {},
   "outputs": [
    {
     "name": "stdout",
     "output_type": "stream",
     "text": [
      "Number of columns in the dataset: 35\n"
     ]
    }
   ],
   "source": [
    "#Step.6)\n",
    "num_columns = euro12.shape[1]\n",
    "print(f\"Number of columns in the dataset: {num_columns}\")\n"
   ]
  },
  {
   "cell_type": "code",
   "execution_count": 31,
   "id": "73eaa2be-276d-4266-a91c-b13b77fdb011",
   "metadata": {},
   "outputs": [
    {
     "name": "stdout",
     "output_type": "stream",
     "text": [
      "                   Team  Yellow Cards  Red Cards\n",
      "0               Croatia             9          0\n",
      "1        Czech Republic             7          0\n",
      "2               Denmark             4          0\n",
      "3               England             5          0\n",
      "4                France             6          0\n",
      "5               Germany             4          0\n",
      "6                Greece             9          1\n",
      "7                 Italy            16          0\n",
      "8           Netherlands             5          0\n",
      "9                Poland             7          1\n",
      "10             Portugal            12          0\n",
      "11  Republic of Ireland             6          1\n",
      "12               Russia             6          0\n",
      "13                Spain            11          0\n",
      "14               Sweden             7          0\n",
      "15              Ukraine             5          0\n"
     ]
    }
   ],
   "source": [
    "#Step.7)\n",
    "discipline = euro12[['Team', 'Yellow Cards', 'Red Cards']]\n",
    "print(discipline)\n"
   ]
  },
  {
   "cell_type": "code",
   "execution_count": 47,
   "id": "169e88e4-e312-4a46-b998-c9a9c76ff41c",
   "metadata": {},
   "outputs": [
    {
     "name": "stdout",
     "output_type": "stream",
     "text": [
      "                   Team  Yellow Cards  Red Cards\n",
      "11  Republic of Ireland             6          1\n",
      "9                Poland             7          1\n",
      "6                Greece             9          1\n",
      "2               Denmark             4          0\n",
      "5               Germany             4          0\n",
      "3               England             5          0\n",
      "8           Netherlands             5          0\n",
      "15              Ukraine             5          0\n",
      "4                France             6          0\n",
      "12               Russia             6          0\n",
      "1        Czech Republic             7          0\n",
      "14               Sweden             7          0\n",
      "0               Croatia             9          0\n",
      "13                Spain            11          0\n",
      "10             Portugal            12          0\n",
      "7                 Italy            16          0\n"
     ]
    }
   ],
   "source": [
    "#Step.8)\n",
    "discipline_sorted = discipline.sort_values(by=['Red Cards', 'Yellow Cards'], ascending=[False, True])\n",
    "print(discipline_sorted)\n",
    "\n",
    "\n"
   ]
  },
  {
   "cell_type": "code",
   "execution_count": 49,
   "id": "050c47ef-952d-420f-895a-78cf08c7c42c",
   "metadata": {},
   "outputs": [
    {
     "name": "stdout",
     "output_type": "stream",
     "text": [
      "Average number of Yellow Cards per team: 7.44\n"
     ]
    }
   ],
   "source": [
    "#Step.9)\n",
    "mean_yellow_cards = euro12['Yellow Cards'].mean()\n",
    "print(f\"Average number of Yellow Cards per team: {mean_yellow_cards:.2f}\")\n"
   ]
  },
  {
   "cell_type": "code",
   "execution_count": 51,
   "id": "064a9593-4621-404c-b4fd-900ad8d23883",
   "metadata": {},
   "outputs": [
    {
     "name": "stdout",
     "output_type": "stream",
     "text": [
      "       Team  Goals\n",
      "5   Germany     10\n",
      "13    Spain     12\n"
     ]
    }
   ],
   "source": [
    "#Step.10)\n",
    "high_scoring_teams = euro12[euro12['Goals'] > 6]\n",
    "print(high_scoring_teams[['Team', 'Goals']])\n"
   ]
  },
  {
   "cell_type": "code",
   "execution_count": 53,
   "id": "688ed240-02df-47b3-9e75-d93adf96f8f5",
   "metadata": {},
   "outputs": [
    {
     "name": "stdout",
     "output_type": "stream",
     "text": [
      "5    Germany\n",
      "6     Greece\n",
      "Name: Team, dtype: object\n"
     ]
    }
   ],
   "source": [
    "#Step.11)\n",
    "teams_starting_with_g = euro12[euro12['Team'].str.startswith('G')]\n",
    "print(teams_starting_with_g['Team'])\n"
   ]
  },
  {
   "cell_type": "code",
   "execution_count": 59,
   "id": "89cf68c6-2f4d-40ed-83a9-2db95c65f9ef",
   "metadata": {},
   "outputs": [
    {
     "name": "stdout",
     "output_type": "stream",
     "text": [
      "                   Team  Goals  Shots on target  Shots off target  \\\n",
      "0               Croatia      4               13                12   \n",
      "1        Czech Republic      4               13                18   \n",
      "2               Denmark      4               10                10   \n",
      "3               England      5               11                18   \n",
      "4                France      3               22                24   \n",
      "5               Germany     10               32                32   \n",
      "6                Greece      5                8                18   \n",
      "7                 Italy      6               34                45   \n",
      "8           Netherlands      2               12                36   \n",
      "9                Poland      2               15                23   \n",
      "10             Portugal      6               22                42   \n",
      "11  Republic of Ireland      1                7                12   \n",
      "12               Russia      5                9                31   \n",
      "13                Spain     12               42                33   \n",
      "14               Sweden      5               17                19   \n",
      "15              Ukraine      2                7                26   \n",
      "\n",
      "   Shooting Accuracy % Goals-to-shots  Total shots (inc. Blocked)  \n",
      "0              51.9%            16.0%                          32  \n",
      "1              41.9%            12.9%                          39  \n",
      "2              50.0%            20.0%                          27  \n",
      "3              50.0%            17.2%                          40  \n",
      "4              37.9%             6.5%                          65  \n",
      "5              47.8%            15.6%                          80  \n",
      "6              30.7%            19.2%                          32  \n",
      "7              43.0%             7.5%                         110  \n",
      "8              25.0%             4.1%                          60  \n",
      "9              39.4%             5.2%                          48  \n",
      "10             34.3%             9.3%                          82  \n",
      "11             36.8%             5.2%                          28  \n",
      "12             22.5%            12.5%                          59  \n",
      "13             55.9%            16.0%                         100  \n",
      "14             47.2%            13.8%                          39  \n",
      "15             21.2%             6.0%                          38  \n"
     ]
    }
   ],
   "source": [
    "#Step.12)\n",
    "first_seven_columns = euro12.iloc[:, :7]\n",
    "print(first_seven_columns)\n",
    "\n"
   ]
  },
  {
   "cell_type": "code",
   "execution_count": 61,
   "id": "47141448-dc79-4496-b111-39b1329f623c",
   "metadata": {},
   "outputs": [
    {
     "name": "stdout",
     "output_type": "stream",
     "text": [
      "                   Team  Goals  Shots on target  Shots off target  \\\n",
      "0               Croatia      4               13                12   \n",
      "1        Czech Republic      4               13                18   \n",
      "2               Denmark      4               10                10   \n",
      "3               England      5               11                18   \n",
      "4                France      3               22                24   \n",
      "5               Germany     10               32                32   \n",
      "6                Greece      5                8                18   \n",
      "7                 Italy      6               34                45   \n",
      "8           Netherlands      2               12                36   \n",
      "9                Poland      2               15                23   \n",
      "10             Portugal      6               22                42   \n",
      "11  Republic of Ireland      1                7                12   \n",
      "12               Russia      5                9                31   \n",
      "13                Spain     12               42                33   \n",
      "14               Sweden      5               17                19   \n",
      "15              Ukraine      2                7                26   \n",
      "\n",
      "   Shooting Accuracy % Goals-to-shots  Total shots (inc. Blocked)  \\\n",
      "0              51.9%            16.0%                          32   \n",
      "1              41.9%            12.9%                          39   \n",
      "2              50.0%            20.0%                          27   \n",
      "3              50.0%            17.2%                          40   \n",
      "4              37.9%             6.5%                          65   \n",
      "5              47.8%            15.6%                          80   \n",
      "6              30.7%            19.2%                          32   \n",
      "7              43.0%             7.5%                         110   \n",
      "8              25.0%             4.1%                          60   \n",
      "9              39.4%             5.2%                          48   \n",
      "10             34.3%             9.3%                          82   \n",
      "11             36.8%             5.2%                          28   \n",
      "12             22.5%            12.5%                          59   \n",
      "13             55.9%            16.0%                         100   \n",
      "14             47.2%            13.8%                          39   \n",
      "15             21.2%             6.0%                          38   \n",
      "\n",
      "    Hit Woodwork  Penalty goals  Penalties not scored  ...  Clean Sheets  \\\n",
      "0              0              0                     0  ...             0   \n",
      "1              0              0                     0  ...             1   \n",
      "2              1              0                     0  ...             1   \n",
      "3              0              0                     0  ...             2   \n",
      "4              1              0                     0  ...             1   \n",
      "5              2              1                     0  ...             1   \n",
      "6              1              1                     1  ...             1   \n",
      "7              2              0                     0  ...             2   \n",
      "8              2              0                     0  ...             0   \n",
      "9              0              0                     0  ...             0   \n",
      "10             6              0                     0  ...             2   \n",
      "11             0              0                     0  ...             0   \n",
      "12             2              0                     0  ...             0   \n",
      "13             0              1                     0  ...             5   \n",
      "14             3              0                     0  ...             1   \n",
      "15             0              0                     0  ...             0   \n",
      "\n",
      "    Blocks  Goals conceded Saves made  Saves-to-shots ratio  Fouls Won  \\\n",
      "0       10               3         13                 81.3%         41   \n",
      "1       10               6          9                 60.1%         53   \n",
      "2       10               5         10                 66.7%         25   \n",
      "3       29               3         22                 88.1%         43   \n",
      "4        7               5          6                 54.6%         36   \n",
      "5       11               6         10                 62.6%         63   \n",
      "6       23               7         13                 65.1%         67   \n",
      "7       18               7         20                 74.1%        101   \n",
      "8        9               5         12                 70.6%         35   \n",
      "9        8               3          6                 66.7%         48   \n",
      "10      11               4         10                 71.5%         73   \n",
      "11      23               9         17                 65.4%         43   \n",
      "12       8               3         10                 77.0%         34   \n",
      "13       8               1         15                 93.8%        102   \n",
      "14      12               5          8                 61.6%         35   \n",
      "15       4               4         13                 76.5%         48   \n",
      "\n",
      "    Fouls Conceded  Offsides  Yellow Cards  Red Cards  \n",
      "0               62         2             9          0  \n",
      "1               73         8             7          0  \n",
      "2               38         8             4          0  \n",
      "3               45         6             5          0  \n",
      "4               51         5             6          0  \n",
      "5               49        12             4          0  \n",
      "6               48        12             9          1  \n",
      "7               89        16            16          0  \n",
      "8               30         3             5          0  \n",
      "9               56         3             7          1  \n",
      "10              90        10            12          0  \n",
      "11              51        11             6          1  \n",
      "12              43         4             6          0  \n",
      "13              83        19            11          0  \n",
      "14              51         7             7          0  \n",
      "15              31         4             5          0  \n",
      "\n",
      "[16 rows x 32 columns]\n"
     ]
    }
   ],
   "source": [
    "#Step.13)\n",
    "all_except_last_three = euro12.iloc[:, :-3]\n",
    "print(all_except_last_three)\n"
   ]
  },
  {
   "cell_type": "code",
   "execution_count": 63,
   "id": "34f6c626-2ad4-4c56-865a-9b936dda467d",
   "metadata": {},
   "outputs": [
    {
     "name": "stdout",
     "output_type": "stream",
     "text": [
      "       Team Shooting Accuracy\n",
      "3   England             50.0%\n",
      "7     Italy             43.0%\n",
      "12   Russia             22.5%\n"
     ]
    }
   ],
   "source": [
    "#Step.14)\n",
    "teams = ['England', 'Italy', 'Russia']\n",
    "shooting_accuracy = euro12.loc[euro12['Team'].isin(teams), ['Team', 'Shooting Accuracy']]\n",
    "print(shooting_accuracy)\n"
   ]
  },
  {
   "cell_type": "code",
   "execution_count": 65,
   "id": "792d3e0c-3411-4b19-b94c-78d9e2c8ae96",
   "metadata": {},
   "outputs": [],
   "source": [
    "#Question.3)\n",
    "#Housing\n",
    "#Step 1. Import the necessary libraries\n",
    "#Step 2. Create 3 differents Series, each of length 100, as follows:\n",
    "#• The first a random number from 1 to 4\n",
    "#• The second a random number from 1 to 3\n",
    "#• The third a random number from 10,000 to 30,000\n",
    "#Step 3. Create a DataFrame by joinning the Series by column\n",
    "#Step 4. Change the name of the columns to bedrs, bathrs, price_sqr_meter\n",
    "#Step 5. Create a one column DataFrame with the values of the 3 Series and assign it to 'bigcolumn'\n",
    "#Step 6. Ops it seems it is going only until index 99. Is it true?\n",
    "#Step 7. Reindex the DataFrame so it goes from 0 to 299\n"
   ]
  },
  {
   "cell_type": "code",
   "execution_count": 67,
   "id": "a2334557-ae1c-4077-a9bd-3a61a5d2927e",
   "metadata": {},
   "outputs": [],
   "source": [
    "#Ans.3)\n",
    "\n",
    "#Step.1)\n",
    "import pandas as pd\n",
    "import numpy as np\n"
   ]
  },
  {
   "cell_type": "code",
   "execution_count": 71,
   "id": "739e4a5e-b17d-4858-8d8f-0068c48304cc",
   "metadata": {},
   "outputs": [],
   "source": [
    "#Step.2)\n",
    "\n",
    "column1 = pd.Series(np.random.randint(1, 5, size=100))  \n",
    "column2 = pd.Series(np.random.randint(1, 4, size=100))  \n",
    "column3 = pd.Series(np.random.randint(10000, 30000, size=100))  \n"
   ]
  },
  {
   "cell_type": "code",
   "execution_count": 73,
   "id": "23c38ee9-af53-4dc3-aaed-507033e400b0",
   "metadata": {},
   "outputs": [
    {
     "name": "stdout",
     "output_type": "stream",
     "text": [
      "    0  1      2\n",
      "0   4  3  27076\n",
      "1   1  1  17995\n",
      "2   2  2  12874\n",
      "3   4  2  27341\n",
      "4   3  1  21923\n",
      ".. .. ..    ...\n",
      "95  1  3  22162\n",
      "96  4  3  14740\n",
      "97  4  3  18015\n",
      "98  3  2  20416\n",
      "99  1  1  13055\n",
      "\n",
      "[100 rows x 3 columns]\n"
     ]
    }
   ],
   "source": [
    "#Step.3)\n",
    "\n",
    "housing_df = pd.concat([column1, column2, column3], axis=1)\n",
    "print(housing_df)\n"
   ]
  },
  {
   "cell_type": "code",
   "execution_count": 75,
   "id": "b718e89c-c86f-4dc9-b3f2-538c2cc36ea4",
   "metadata": {},
   "outputs": [
    {
     "name": "stdout",
     "output_type": "stream",
     "text": [
      "    bedrs  bathrs  price_sqr_meter\n",
      "0       4       3            27076\n",
      "1       1       1            17995\n",
      "2       2       2            12874\n",
      "3       4       2            27341\n",
      "4       3       1            21923\n",
      "..    ...     ...              ...\n",
      "95      1       3            22162\n",
      "96      4       3            14740\n",
      "97      4       3            18015\n",
      "98      3       2            20416\n",
      "99      1       1            13055\n",
      "\n",
      "[100 rows x 3 columns]\n"
     ]
    }
   ],
   "source": [
    "#Step.4)\n",
    "\n",
    "housing_df.columns = ['bedrs', 'bathrs', 'price_sqr_meter']\n",
    "print(housing_df)\n"
   ]
  },
  {
   "cell_type": "code",
   "execution_count": 79,
   "id": "1e3dd9be-3512-45e0-8c71-f6a282a9246c",
   "metadata": {},
   "outputs": [
    {
     "name": "stdout",
     "output_type": "stream",
     "text": [
      "   0\n",
      "0  4\n",
      "1  3\n",
      "2  4\n",
      "3  3\n",
      "4  1\n"
     ]
    }
   ],
   "source": [
    "#Step.5)\n",
    "\n",
    "bigcolumn = pd.DataFrame(pd.concat([bedrs, bathrs, price_sqr_meter], axis=0).reset_index(drop=True))\n",
    "print(bigcolumn.head())\n"
   ]
  },
  {
   "cell_type": "code",
   "execution_count": 83,
   "id": "f376f515-30c5-4549-be39-6c0c1483e41a",
   "metadata": {},
   "outputs": [
    {
     "name": "stdout",
     "output_type": "stream",
     "text": [
      "RangeIndex(start=0, stop=100, step=1)\n"
     ]
    }
   ],
   "source": [
    "#Step.6)\n",
    "print(housing_df.index)\n"
   ]
  },
  {
   "cell_type": "code",
   "execution_count": 85,
   "id": "2b23a53d-bd87-492d-917e-088443f9e6bb",
   "metadata": {},
   "outputs": [
    {
     "name": "stdout",
     "output_type": "stream",
     "text": [
      "     bedrs  bathrs  price_sqr_meter\n",
      "0        4       3            27076\n",
      "1        1       1            17995\n",
      "2        2       2            12874\n",
      "3        4       2            27341\n",
      "4        3       1            21923\n",
      "..     ...     ...              ...\n",
      "295      1       3            22162\n",
      "296      4       3            14740\n",
      "297      4       3            18015\n",
      "298      3       2            20416\n",
      "299      1       1            13055\n",
      "\n",
      "[300 rows x 3 columns]\n"
     ]
    }
   ],
   "source": [
    "#Step.7)\n",
    "\n",
    "housing_df_expanded = pd.concat([housing_df] * 3, ignore_index=True)  \n",
    "\n",
    "print(housing_df_expanded)\n"
   ]
  },
  {
   "cell_type": "code",
   "execution_count": 105,
   "id": "3eed4ded-a7b7-4cd3-8d43-25d1e25693d5",
   "metadata": {},
   "outputs": [],
   "source": [
    "#Question.4)\n",
    "#Wind Statistics \n",
    "#The data have been modified to contain some missing values, identified by NaN.\n",
    "#Using pandas should make this exercise easier, in particular for the bonus question.\n",
    "#You should be able to perform all of these operations without using a for loop or other looping construct.\n",
    "#The data in 'wind.data' has the following format:\n",
    "#Yr Mo Dy RPT VAL ROS KIL SHA BIR DUB CLA MUL CLO BEL MAL\n",
    "#61 1 1 15.04 14.96 13.17 9.29 NaN 9.87 13.67 10.25 10.83 12.58 18.50 15.04\n",
    "#61 1 2 14.71 NaN 10.83 6.50 12.62 7.67 11.50 10.04 9.79 9.67 17.54 13.83\n",
    "#61 1 3 18.50 16.88 12.33 10.13 11.17 6.17 11.25 NaN 8.50 7.67 12.75 12.71\n",
    "#The first three columns are year, month, and day. The remaining 12 columns are average windspeeds in knots at 12 locations in Ireland on that day.\n",
    "#Step 1. Import the necessary libraries\n",
    "#Step 2. Import the dataset from the attached file wind.txt\n",
    "#Step 3. Assign it to a variable called data and replace the first 3 columns by a proper datetime index.\n",
    "#Step 4. Year 2061? Do we really have data from this year? Create a function to fix it and apply it.\n",
    "#Step 5. Set the right dates as the index. Pay attention at the data type, it should be datetime64[ns].\n",
    "#Step 6. Compute how many values are missing for each location over the entire record.They should be ignored in all calculations below.\n",
    "#Step 7. Compute how many non-missing values there are in total.\n",
    "#Step 8. Calculate the mean windspeeds of the windspeeds over all the locations and all the times.A single number for the entire dataset.\n",
    "#Step 9. Create a DataFrame called loc_stats and calculate the min, max and mean windspeeds and standard deviations of the windspeeds at each location over all the days.A different set of numbers for each location.\n",
    "#Step 10. Create a DataFrame called day_stats and calculate the min, max and mean windspeed and standard deviations of the windspeeds across all the locations at each day.A different set of numbers for each day.\n",
    "#Step 11. Find the average windspeed in January for each location.Treat January 1961 and January 1962 both as January.\n",
    "#Step 12. Downsample the record to a yearly frequency for each location.\n",
    "#Step 13. Downsample the record to a monthly frequency for each location.\n",
    "#Step 14. Downsample the record to a weekly frequency for each location.\n",
    "#Step 15. Calculate the min, max and mean windspeeds and standard deviations of the windspeeds across all locations for each week (assume that the first week starts on January 2 1961) for the first 52 weeks\n"
   ]
  },
  {
   "cell_type": "code",
   "execution_count": 107,
   "id": "0b631e87-1c40-4a74-8efe-c5a112700c68",
   "metadata": {},
   "outputs": [],
   "source": [
    "#Ans.4)\n",
    "\n",
    "#Step.1)\n",
    "\n",
    "import pandas as pd\n",
    "import numpy as np\n"
   ]
  },
  {
   "cell_type": "code",
   "execution_count": 121,
   "id": "5b8cdc5d-40b2-43a7-8dff-93291b4bb6e6",
   "metadata": {},
   "outputs": [
    {
     "name": "stdout",
     "output_type": "stream",
     "text": [
      "      0   1   2      3      4      5      6      7      8      9      10  \\\n",
      "0     Yr  Mo  Dy    RPT    VAL    ROS    KIL    SHA    BIR    DUB    CLA   \n",
      "1     61   1   1  15.04  14.96  13.17   9.29    NaN   9.87  13.67  10.25   \n",
      "2     61   1   2  14.71    NaN  10.83   6.50  12.62   7.67  11.50  10.04   \n",
      "3     61   1   3  18.50  16.88  12.33  10.13  11.17   6.17  11.25    NaN   \n",
      "4     61   1   4  10.58   6.63  11.75   4.58   4.54   2.88   8.63   1.79   \n",
      "...   ..  ..  ..    ...    ...    ...    ...    ...    ...    ...    ...   \n",
      "6570  78  12  27  17.58  16.96  17.62   8.08  13.21  11.67  14.46  15.59   \n",
      "6571  78  12  28  13.21   5.46  13.46   5.00   8.12   9.42  14.33  16.25   \n",
      "6572  78  12  29  14.00  10.29  14.42   8.71   9.71  10.54  19.17  12.46   \n",
      "6573  78  12  30  18.50  14.04  21.29   9.13  12.75   9.71  18.08  12.87   \n",
      "6574  78  12  31  20.33  17.41  27.29   9.59  12.08  10.13  19.25  11.63   \n",
      "\n",
      "         11     12     13     14  \n",
      "0       MUL    CLO    BEL    MAL  \n",
      "1     10.83  12.58  18.50  15.04  \n",
      "2      9.79   9.67  17.54  13.83  \n",
      "3      8.50   7.67  12.75  12.71  \n",
      "4      5.83   5.88   5.46  10.88  \n",
      "...     ...    ...    ...    ...  \n",
      "6570  14.04  14.00  17.21  40.08  \n",
      "6571  15.25  18.05  21.79  41.46  \n",
      "6572  14.50  16.42  18.88  29.58  \n",
      "6573  12.46  12.12  14.67  28.79  \n",
      "6574  11.58  11.38  12.08  22.08  \n",
      "\n",
      "[6575 rows x 15 columns]\n"
     ]
    }
   ],
   "source": [
    "#Step.2)\n",
    "\n",
    "url = r\"C:\\Users\\nirav\\OneDrive\\Desktop\\Georgian\\DA programming\\wind.txt\"\n",
    "wind = pd.read_csv(url, sep=r'\\s+', header=None)\n",
    "\n",
    "print(wind)"
   ]
  },
  {
   "cell_type": "code",
   "execution_count": 151,
   "id": "d40cf6a4-fd9b-4157-b91c-90c5acc44a42",
   "metadata": {},
   "outputs": [
    {
     "name": "stdout",
     "output_type": "stream",
     "text": [
      "                3      4      5      6      7      8      9     10     11  \\\n",
      "Date                                                                        \n",
      "1961-01-01  15.04  14.96  13.17   9.29    NaN   9.87  13.67  10.25  10.83   \n",
      "1961-01-02  14.71    NaN  10.83   6.50  12.62   7.67  11.50  10.04   9.79   \n",
      "1961-01-03  18.50  16.88  12.33  10.13  11.17   6.17  11.25    NaN   8.50   \n",
      "1961-01-04  10.58   6.63  11.75   4.58   4.54   2.88   8.63   1.79   5.83   \n",
      "1961-01-05  13.33  13.25  11.42   6.17  10.71   8.21  11.92   6.54  10.92   \n",
      "...           ...    ...    ...    ...    ...    ...    ...    ...    ...   \n",
      "1978-12-27  17.58  16.96  17.62   8.08  13.21  11.67  14.46  15.59  14.04   \n",
      "1978-12-28  13.21   5.46  13.46   5.00   8.12   9.42  14.33  16.25  15.25   \n",
      "1978-12-29  14.00  10.29  14.42   8.71   9.71  10.54  19.17  12.46  14.50   \n",
      "1978-12-30  18.50  14.04  21.29   9.13  12.75   9.71  18.08  12.87  12.46   \n",
      "1978-12-31  20.33  17.41  27.29   9.59  12.08  10.13  19.25  11.63  11.58   \n",
      "\n",
      "               12     13     14  \n",
      "Date                             \n",
      "1961-01-01  12.58  18.50  15.04  \n",
      "1961-01-02   9.67  17.54  13.83  \n",
      "1961-01-03   7.67  12.75  12.71  \n",
      "1961-01-04   5.88   5.46  10.88  \n",
      "1961-01-05  10.34  12.92  11.83  \n",
      "...           ...    ...    ...  \n",
      "1978-12-27  14.00  17.21  40.08  \n",
      "1978-12-28  18.05  21.79  41.46  \n",
      "1978-12-29  16.42  18.88  29.58  \n",
      "1978-12-30  12.12  14.67  28.79  \n",
      "1978-12-31  11.38  12.08  22.08  \n",
      "\n",
      "[6574 rows x 12 columns]\n"
     ]
    }
   ],
   "source": [
    "#Step.3)\n",
    "\n",
    "data = wind.copy()\n",
    "\n",
    "data[0] = data[0].apply(pd.to_numeric, errors='coerce').fillna(0).astype(int)  \n",
    "data[1] = data[1].apply(pd.to_numeric, errors='coerce').fillna(0).astype(int)  \n",
    "data[2] = data[2].apply(pd.to_numeric, errors='coerce').fillna(0).astype(int)  \n",
    "\n",
    "data = data[(data[0] != 0) & (data[1] != 0) & (data[2] != 0)]\n",
    "\n",
    "data[0] = data[0].apply(lambda x: '19' + str(x) if len(str(x)) == 2 else str(x))\n",
    "\n",
    "data['Date'] = pd.to_datetime(data[0].astype(str) + '-' + data[1].astype(str) + '-' + data[2].astype(str), format='%Y-%m-%d')\n",
    "\n",
    "data.set_index('Date', inplace=True)\n",
    "\n",
    "data = data.drop(columns=[0, 1, 2])\n",
    "\n",
    "print(data)\n",
    "\n"
   ]
  },
  {
   "cell_type": "code",
   "execution_count": 161,
   "id": "4ecef71c-1be7-4bf4-9d58-dfe346ea723a",
   "metadata": {},
   "outputs": [
    {
     "name": "stdout",
     "output_type": "stream",
     "text": [
      "                3      4      5      6      7     8      9     10     11  \\\n",
      "Date                                                                       \n",
      "1961-01-01  15.04  14.96  13.17   9.29    NaN  9.87  13.67  10.25  10.83   \n",
      "1961-01-02  14.71    NaN  10.83   6.50  12.62  7.67  11.50  10.04   9.79   \n",
      "1961-01-03  18.50  16.88  12.33  10.13  11.17  6.17  11.25    NaN   8.50   \n",
      "1961-01-04  10.58   6.63  11.75   4.58   4.54  2.88   8.63   1.79   5.83   \n",
      "1961-01-05  13.33  13.25  11.42   6.17  10.71  8.21  11.92   6.54  10.92   \n",
      "\n",
      "               12     13     14  \n",
      "Date                             \n",
      "1961-01-01  12.58  18.50  15.04  \n",
      "1961-01-02   9.67  17.54  13.83  \n",
      "1961-01-03   7.67  12.75  12.71  \n",
      "1961-01-04   5.88   5.46  10.88  \n",
      "1961-01-05  10.34  12.92  11.83  \n"
     ]
    }
   ],
   "source": [
    "#Step.4)\n",
    "\n",
    "def fix_year_in_date(date):\n",
    "    if date.year == 2061:\n",
    "        return date.replace(year=1961)\n",
    "    return date\n",
    "    \n",
    "data.index = data.index.map(fix_year_in_date)\n",
    "\n",
    "print(data.head())\n"
   ]
  },
  {
   "cell_type": "code",
   "execution_count": 163,
   "id": "e31233f6-ca05-439e-b011-0982ff115baf",
   "metadata": {},
   "outputs": [
    {
     "name": "stdout",
     "output_type": "stream",
     "text": [
      "datetime64[ns]\n"
     ]
    }
   ],
   "source": [
    "#Step.5)\n",
    "\n",
    "data.index = pd.to_datetime(data.index)\n",
    "\n",
    "print(data.index.dtype)\n"
   ]
  },
  {
   "cell_type": "code",
   "execution_count": 165,
   "id": "21f42e07-307b-4e3a-b3b3-7115c7174d57",
   "metadata": {},
   "outputs": [
    {
     "name": "stdout",
     "output_type": "stream",
     "text": [
      "3     6\n",
      "4     3\n",
      "5     2\n",
      "6     5\n",
      "7     2\n",
      "8     0\n",
      "9     3\n",
      "10    2\n",
      "11    3\n",
      "12    1\n",
      "13    0\n",
      "14    4\n",
      "dtype: int64\n"
     ]
    }
   ],
   "source": [
    "#Step.6)\n",
    "\n",
    "\n",
    "missing_values = data.isna().sum()\n",
    "print(missing_values)\n"
   ]
  },
  {
   "cell_type": "code",
   "execution_count": 167,
   "id": "7ecc77ea-67c8-4e22-a2a2-2336c7d24011",
   "metadata": {},
   "outputs": [
    {
     "name": "stdout",
     "output_type": "stream",
     "text": [
      "3     6568\n",
      "4     6571\n",
      "5     6572\n",
      "6     6569\n",
      "7     6572\n",
      "8     6574\n",
      "9     6571\n",
      "10    6572\n",
      "11    6571\n",
      "12    6573\n",
      "13    6574\n",
      "14    6570\n",
      "dtype: int64\n"
     ]
    }
   ],
   "source": [
    "#Step.7)\n",
    "\n",
    "\n",
    "non_missing_values = data.notna().sum()\n",
    "print(non_missing_values)\n"
   ]
  },
  {
   "cell_type": "code",
   "execution_count": 261,
   "id": "38c7c615-da6e-49fc-9d8c-283a91dd0ada",
   "metadata": {},
   "outputs": [
    {
     "name": "stdout",
     "output_type": "stream",
     "text": [
      "Mean windspeed over all locations and times: 9.79\n"
     ]
    }
   ],
   "source": [
    "#Step.8)\n",
    "\n",
    "windspeed_columns = data.columns[3:15] \n",
    "\n",
    "data[windspeed_columns] = data[windspeed_columns].apply(pd.to_numeric, errors='coerce')\n",
    "\n",
    "data[windspeed_columns] = data[windspeed_columns].apply(lambda col: col.fillna(col.mean()))\n",
    "\n",
    "mean_windspeed = data[windspeed_columns].mean().mean()\n",
    "\n",
    "print(f\"Mean windspeed over all locations and times: {mean_windspeed:.2f}\")\n"
   ]
  },
  {
   "cell_type": "code",
   "execution_count": 263,
   "id": "c01d3887-33f9-4590-bfec-7b7b1ca7c426",
   "metadata": {},
   "outputs": [
    {
     "name": "stdout",
     "output_type": "stream",
     "text": [
      "     min    max       mean       std\n",
      "6   0.00  28.46   6.306468  3.604439\n",
      "7   0.13  37.54  10.455834  4.935374\n",
      "8   0.00  26.16   7.092254  3.968683\n",
      "9   0.00  30.37   9.797343  4.976419\n",
      "10  0.00  31.08   8.495053  4.498764\n",
      "11  0.00  25.88   8.493590  4.165921\n",
      "12  0.04  28.21   8.707332  4.503612\n",
      "13  0.13  42.38  13.121007  5.835037\n",
      "14  0.67  42.54  15.599079  6.697755\n"
     ]
    }
   ],
   "source": [
    "#Step.9)\n",
    "\n",
    "loc_stats = data.describe().T[['min', 'max', 'mean', 'std']]\n",
    "print(loc_stats)\n",
    "\n",
    "\n"
   ]
  },
  {
   "cell_type": "code",
   "execution_count": 279,
   "id": "66f27e70-662d-4180-8bb3-7c0be71b2e77",
   "metadata": {},
   "outputs": [
    {
     "name": "stdout",
     "output_type": "stream",
     "text": [
      "                6                            7                            \\\n",
      "              min    max   mean std        min        max       mean std   \n",
      "Date                                                                       \n",
      "1961-01-01   9.29   9.29   9.29 NaN  10.455834  10.455834  10.455834 NaN   \n",
      "1961-01-02   6.50   6.50   6.50 NaN  12.620000  12.620000  12.620000 NaN   \n",
      "1961-01-03  10.13  10.13  10.13 NaN  11.170000  11.170000  11.170000 NaN   \n",
      "1961-01-04   4.58   4.58   4.58 NaN   4.540000   4.540000   4.540000 NaN   \n",
      "1961-01-05   6.17   6.17   6.17 NaN  10.710000  10.710000  10.710000 NaN   \n",
      "...           ...    ...    ...  ..        ...        ...        ...  ..   \n",
      "1978-12-27   8.08   8.08   8.08 NaN  13.210000  13.210000  13.210000 NaN   \n",
      "1978-12-28   5.00   5.00   5.00 NaN   8.120000   8.120000   8.120000 NaN   \n",
      "1978-12-29   8.71   8.71   8.71 NaN   9.710000   9.710000   9.710000 NaN   \n",
      "1978-12-30   9.13   9.13   9.13 NaN  12.750000  12.750000  12.750000 NaN   \n",
      "1978-12-31   9.59   9.59   9.59 NaN  12.080000  12.080000  12.080000 NaN   \n",
      "\n",
      "                8         ...     12         13                       14  \\\n",
      "              min    max  ...   mean std    min    max   mean std    min   \n",
      "Date                      ...                                              \n",
      "1961-01-01   9.87   9.87  ...  12.58 NaN  18.50  18.50  18.50 NaN  15.04   \n",
      "1961-01-02   7.67   7.67  ...   9.67 NaN  17.54  17.54  17.54 NaN  13.83   \n",
      "1961-01-03   6.17   6.17  ...   7.67 NaN  12.75  12.75  12.75 NaN  12.71   \n",
      "1961-01-04   2.88   2.88  ...   5.88 NaN   5.46   5.46   5.46 NaN  10.88   \n",
      "1961-01-05   8.21   8.21  ...  10.34 NaN  12.92  12.92  12.92 NaN  11.83   \n",
      "...           ...    ...  ...    ...  ..    ...    ...    ...  ..    ...   \n",
      "1978-12-27  11.67  11.67  ...  14.00 NaN  17.21  17.21  17.21 NaN  40.08   \n",
      "1978-12-28   9.42   9.42  ...  18.05 NaN  21.79  21.79  21.79 NaN  41.46   \n",
      "1978-12-29  10.54  10.54  ...  16.42 NaN  18.88  18.88  18.88 NaN  29.58   \n",
      "1978-12-30   9.71   9.71  ...  12.12 NaN  14.67  14.67  14.67 NaN  28.79   \n",
      "1978-12-31  10.13  10.13  ...  11.38 NaN  12.08  12.08  12.08 NaN  22.08   \n",
      "\n",
      "                              \n",
      "              max   mean std  \n",
      "Date                          \n",
      "1961-01-01  15.04  15.04 NaN  \n",
      "1961-01-02  13.83  13.83 NaN  \n",
      "1961-01-03  12.71  12.71 NaN  \n",
      "1961-01-04  10.88  10.88 NaN  \n",
      "1961-01-05  11.83  11.83 NaN  \n",
      "...           ...    ...  ..  \n",
      "1978-12-27  40.08  40.08 NaN  \n",
      "1978-12-28  41.46  41.46 NaN  \n",
      "1978-12-29  29.58  29.58 NaN  \n",
      "1978-12-30  28.79  28.79 NaN  \n",
      "1978-12-31  22.08  22.08 NaN  \n",
      "\n",
      "[6574 rows x 36 columns]\n"
     ]
    }
   ],
   "source": [
    "#Step.10)\n",
    "\n",
    "windspeed_columns = data.columns[3:15]  \n",
    "\n",
    "day_stats = data[windspeed_columns].groupby(data.index).agg([\n",
    "    'min',   \n",
    "    'max',   \n",
    "    'mean',  \n",
    "    'std'    \n",
    "])\n",
    "\n",
    "print(day_stats)\n",
    "\n",
    "\n"
   ]
  },
  {
   "cell_type": "code",
   "execution_count": 283,
   "id": "0d5d594f-9a05-47e9-b1ae-5fcfaa274440",
   "metadata": {},
   "outputs": [
    {
     "name": "stdout",
     "output_type": "stream",
     "text": [
      "              6         7         8          9        10        11         12  \\\n",
      "Month                                                                           \n",
      "1      7.199498  11.66339  8.054839  11.819355  9.510224  9.543208  10.053566   \n",
      "\n",
      "             13         14    Year  Month  \n",
      "Month                                      \n",
      "1      14.55052  18.028763  1969.5    1.0  \n"
     ]
    }
   ],
   "source": [
    "#Step.11)\n",
    "\n",
    "data['Year'] = data.index.year\n",
    "data['Month'] = data.index.month\n",
    "\n",
    "january_data = data[data['Month'] == 1]\n",
    "\n",
    "windspeed_columns = data.columns[3:15]  \n",
    "\n",
    "january_mean_windspeed = january_data[windspeed_columns].groupby(january_data['Month']).mean()\n",
    "\n",
    "print(january_mean_windspeed)\n"
   ]
  },
  {
   "cell_type": "code",
   "execution_count": 289,
   "id": "884d77da-5592-4ad6-a637-64be8bf402b0",
   "metadata": {},
   "outputs": [
    {
     "name": "stdout",
     "output_type": "stream",
     "text": [
      "                   6          7         8          9         10        11  \\\n",
      "Date                                                                        \n",
      "1961-12-31  6.951085  10.879429  7.729726   9.734444   8.856795  8.646386   \n",
      "1962-12-31  6.958648  10.657918  7.393068  11.020712   8.793753  8.316822   \n",
      "1963-12-31  7.330055  11.724110  8.434712  11.075699  10.336548  8.903589   \n",
      "1964-12-31  6.787787  11.454481  7.570874  10.259153   9.467350  7.789016   \n",
      "1965-12-31  6.858466  11.024795  7.478110  10.618712   8.879918  7.907425   \n",
      "1966-12-31  7.345726  11.805041  7.793671  10.579808   8.835096  8.514438   \n",
      "1967-12-31  7.143425  11.630740  7.368164  10.652027   9.325616  8.645014   \n",
      "1968-12-31  6.477678  10.760765  6.067322   8.859180   8.255519  7.224945   \n",
      "1969-12-31  5.767973   9.873918  6.189973   8.564493   7.711397  7.924521   \n",
      "1970-12-31  6.217178  10.567370  7.609452   9.609890   8.334630  9.297616   \n",
      "1971-12-31  5.241507   9.440329  6.097151   8.385890   6.757315  7.915370   \n",
      "1972-12-31  5.929699   9.430410  6.358825   9.704508   7.680792  8.357295   \n",
      "1973-12-31  5.547863   9.640877  6.548740   8.482110   7.614274  8.245534   \n",
      "1974-12-31  6.427041  11.110986  6.809781  10.084603   9.896986  9.331753   \n",
      "1975-12-31  5.269096   9.190082  5.668521   8.562603   7.843836  8.797945   \n",
      "1976-12-31  5.109426   8.846339  6.311038   9.149126   7.146202  8.883716   \n",
      "1977-12-31  6.073945  10.003836  8.586438  11.523205   8.378384  9.098192   \n",
      "1978-12-31  6.082356  10.167233  7.650658   9.489342   8.800466  9.089753   \n",
      "\n",
      "                   12         13         14    Year     Month  \n",
      "Date                                                           \n",
      "1961-12-31   9.832486  13.502795  13.696540  1961.0  6.526027  \n",
      "1962-12-31   9.676247  12.930685  14.327450  1962.0  6.526027  \n",
      "1963-12-31  10.224438  13.638877  14.999014  1963.0  6.526027  \n",
      "1964-12-31  10.207951  13.740546  14.910301  1964.0  6.513661  \n",
      "1965-12-31   9.918082  12.964247  15.591644  1965.0  6.526027  \n",
      "1966-12-31   9.768959  14.265836  16.307260  1966.0  6.526027  \n",
      "1967-12-31   9.547425  14.774548  17.135945  1967.0  6.526027  \n",
      "1968-12-31   7.832978  12.808634  15.017486  1968.0  6.513661  \n",
      "1969-12-31   7.754384  12.621233  15.762904  1969.0  6.526027  \n",
      "1970-12-31   8.289808  13.183644  16.456027  1970.0  6.526027  \n",
      "1971-12-31   7.229753  12.208932  15.025233  1971.0  6.526027  \n",
      "1972-12-31   7.515273  12.727377  15.028716  1972.0  6.513661  \n",
      "1973-12-31   7.812411  12.169699  15.441096  1973.0  6.526027  \n",
      "1974-12-31   8.736356  13.252959  16.947671  1974.0  6.526027  \n",
      "1975-12-31   7.382822  12.631671  15.307863  1975.0  6.526027  \n",
      "1976-12-31   7.883087  12.332377  15.471448  1976.0  6.513661  \n",
      "1977-12-31   8.821616  13.459068  16.590849  1977.0  6.526027  \n",
      "1978-12-31   8.301699  12.967397  16.771370  1978.0  6.526027  \n"
     ]
    }
   ],
   "source": [
    "#Step.12)\n",
    "\n",
    "windspeed_columns = data.columns[3:15]  \n",
    "\n",
    "yearly_data = data[windspeed_columns].resample('YE').mean()\n",
    "\n",
    "print(yearly_data)\n",
    "\n"
   ]
  },
  {
   "cell_type": "code",
   "execution_count": 295,
   "id": "bb0f7146-8673-48ef-b9e4-fb652b0dcd8d",
   "metadata": {},
   "outputs": [
    {
     "name": "stdout",
     "output_type": "stream",
     "text": [
      "                   6          7          8          9         10         11  \\\n",
      "Date                                                                          \n",
      "1961-01-31  7.736774  11.032957   8.588065  11.184839   9.221131   9.085806   \n",
      "1961-02-28  9.126302  13.852143  10.937500  11.890714  11.846071  11.821429   \n",
      "1961-03-31  7.252467  10.509355   8.866774   9.644194   9.829677  10.177974   \n",
      "1961-04-30  5.830667   8.435000   6.495000   6.925333   7.094667   7.342333   \n",
      "1961-05-31  5.918273   9.490323   6.574839   7.674753   8.177097   8.039355   \n",
      "...              ...        ...        ...        ...        ...        ...   \n",
      "1978-08-31  4.502903   7.368065   5.935161   5.650323   5.417742   7.241290   \n",
      "1978-09-30  5.725000  10.372000   9.278333  10.790333   9.583000  10.069333   \n",
      "1978-10-31  4.721290   8.525161   6.774194   8.115484   7.337742   8.297742   \n",
      "1978-11-30  7.317333  11.475000   8.743000  11.492333   9.657333  10.701333   \n",
      "1978-12-31  7.094839  11.398710   9.241613  12.077419  10.194839  10.616774   \n",
      "\n",
      "                   12         13         14    Year  Month  \n",
      "Date                                                        \n",
      "1961-01-31  10.107419  13.880968  14.703226  1961.0    1.0  \n",
      "1961-02-28  12.714286  18.583214  15.411786  1961.0    2.0  \n",
      "1961-03-31  11.251935  16.410968  15.716099  1961.0    3.0  \n",
      "1961-04-30   7.237000  11.147333  10.278333  1961.0    4.0  \n",
      "1961-05-31   8.499355  11.900323  12.011613  1961.0    5.0  \n",
      "...               ...        ...        ...     ...    ...  \n",
      "1978-08-31   5.536774  10.466774  12.054194  1978.0    8.0  \n",
      "1978-09-30   8.939000  15.680333  19.391333  1978.0    9.0  \n",
      "1978-10-31   8.243871  13.776774  17.150000  1978.0   10.0  \n",
      "1978-11-30  10.676000  17.404667  20.723000  1978.0   11.0  \n",
      "1978-12-31  11.028710  13.859677  21.371613  1978.0   12.0  \n",
      "\n",
      "[216 rows x 11 columns]\n"
     ]
    }
   ],
   "source": [
    "#Step.13)\n",
    "\n",
    "windspeed_columns = data.columns[3:15]  \n",
    "\n",
    "monthly_data = data[windspeed_columns].resample('ME').mean()\n",
    "\n",
    "print(monthly_data)\n"
   ]
  },
  {
   "cell_type": "code",
   "execution_count": 307,
   "id": "6e3ed7f8-8485-4970-9187-e18537256ba5",
   "metadata": {},
   "outputs": [
    {
     "name": "stdout",
     "output_type": "stream",
     "text": [
      "                   6                                 7                    \\\n",
      "                 std    max       mean   min       std    max       mean   \n",
      "Date                                                                       \n",
      "1961-01-02  1.972828   9.29   7.895000  6.50  1.530297  12.62  11.537917   \n",
      "1961-01-09  1.915191  10.13   6.167143  4.58  2.989519  12.29   9.152857   \n",
      "1961-01-16  3.549365  10.54   4.624286  0.67  3.628126  11.34   7.490000   \n",
      "1961-01-23  6.373989  18.54   7.150000  1.04  3.662831  13.96   9.487976   \n",
      "1961-01-30  4.619148  17.54  12.357143  6.04  4.917020  24.08  17.372857   \n",
      "...              ...    ...        ...   ...       ...    ...        ...   \n",
      "1978-12-04  4.723986  12.79   5.571429  0.96  5.033466  18.21  10.828571   \n",
      "1978-12-11  5.461574  18.16  11.194286  3.37  6.419584  24.46  16.257143   \n",
      "1978-12-18  2.857869   8.33   5.398571  1.00  5.400555  18.12  10.152857   \n",
      "1978-12-25  2.537096   9.50   4.242857  2.33  3.540582  14.29   7.212857   \n",
      "1979-01-01  2.851082   9.59   7.146667  2.37  2.596855  13.21  10.471667   \n",
      "\n",
      "                              8         ...         14        Year        \\\n",
      "                  min       std    max  ...       mean    min  std   max   \n",
      "Date                                    ...                                \n",
      "1961-01-02  10.455834  1.555635   9.87  ...  14.435000  13.83  0.0  1961   \n",
      "1961-01-09   4.540000  1.997574   8.33  ...  13.458571  10.88  0.0  1961   \n",
      "1961-01-16   2.290000  3.262833   9.46  ...  10.120000   5.17  0.0  1961   \n",
      "1961-01-23   3.670000  3.961887  13.37  ...  13.082857   6.79  0.0  1961   \n",
      "1961-01-30  10.000000  4.193041  19.70  ...  22.340000  17.50  0.0  1961   \n",
      "...               ...       ...    ...  ...        ...    ...  ...   ...   \n",
      "1978-12-04   4.540000  5.487634  19.29  ...  19.377143  11.50  0.0  1978   \n",
      "1978-12-11   6.500000  4.931327  19.58  ...  23.757143  15.34  0.0  1978   \n",
      "1978-12-18   3.040000  4.305884  12.17  ...  15.128571   6.92  0.0  1978   \n",
      "1978-12-25   3.500000  3.753601  13.08  ...  18.144286  10.29  0.0  1978   \n",
      "1979-01-01   6.960000  2.573936  11.67  ...  28.991667  11.96  0.0  1978   \n",
      "\n",
      "                             Month                     \n",
      "              mean   min       std max       mean min  \n",
      "Date                                                   \n",
      "1961-01-02  1961.0  1961  0.000000   1   1.000000   1  \n",
      "1961-01-09  1961.0  1961  0.000000   1   1.000000   1  \n",
      "1961-01-16  1961.0  1961  0.000000   1   1.000000   1  \n",
      "1961-01-23  1961.0  1961  0.000000   1   1.000000   1  \n",
      "1961-01-30  1961.0  1961  0.000000   1   1.000000   1  \n",
      "...            ...   ...       ...  ..        ...  ..  \n",
      "1978-12-04  1978.0  1978  0.534522  12  11.571429  11  \n",
      "1978-12-11  1978.0  1978  0.000000  12  12.000000  12  \n",
      "1978-12-18  1978.0  1978  0.000000  12  12.000000  12  \n",
      "1978-12-25  1978.0  1978  0.000000  12  12.000000  12  \n",
      "1979-01-01  1978.0  1978  0.000000  12  12.000000  12  \n",
      "\n",
      "[940 rows x 44 columns]\n"
     ]
    }
   ],
   "source": [
    "#Step.14)\n",
    "\n",
    "windspeed_columns = data.columns[3:15]  \n",
    "\n",
    "\n",
    "weekly_stats = data[windspeed_columns].resample('W-MON').agg({\n",
    "    'min',   \n",
    "    'max',   \n",
    "    'mean', \n",
    "    'std'  \n",
    "})\n",
    "\n",
    "print(weekly_stats)\n"
   ]
  },
  {
   "cell_type": "code",
   "execution_count": 317,
   "id": "f69aee96-904e-423d-b9c3-50fc3c3cde3d",
   "metadata": {},
   "outputs": [
    {
     "name": "stdout",
     "output_type": "stream",
     "text": [
      "                   6                                 7                    \\\n",
      "                 std    max       mean   min       std    max       mean   \n",
      "Date                                                                       \n",
      "1961-01-02  1.915191  10.13   6.167143  4.58  2.989519  12.29   9.152857   \n",
      "1961-01-09  3.549365  10.54   4.624286  0.67  3.628126  11.34   7.490000   \n",
      "1961-01-16  6.373989  18.54   7.150000  1.04  3.662831  13.96   9.487976   \n",
      "1961-01-23  4.619148  17.54  12.357143  6.04  4.917020  24.08  17.372857   \n",
      "1961-01-30  3.802076  15.37   9.311429  5.09  5.073340  25.33  15.111429   \n",
      "1961-02-06  2.251903  15.34  10.770000  8.38  3.253761  17.04  13.404286   \n",
      "1961-02-13  3.317432  13.25   8.542353  4.21  2.131751  15.29  12.665714   \n",
      "1961-02-20  4.526374  15.21   8.315714  2.21  6.376560  23.09  13.982857   \n",
      "1961-02-27  2.435440  10.04   7.300000  3.13  3.814939  16.13  10.987143   \n",
      "1961-03-06  2.089329  10.25   7.494286  5.13  1.949228  14.92  11.762857   \n",
      "1961-03-13  2.665257  11.04   7.815714  4.29  2.664155  14.37  10.792857   \n",
      "1961-03-20  2.003604   8.83   5.505714  2.75  3.468234  13.33   7.731429   \n",
      "1961-03-27  3.057710  12.00   7.353781  3.67  4.711772  18.34  11.035714   \n",
      "1961-04-03  3.001868  10.63   5.798571  3.00  3.025932  13.33   8.870000   \n",
      "1961-04-10  2.884495   9.71   4.768571  1.58  2.517535   8.71   5.881429   \n",
      "1961-04-17  3.092015  11.63   8.227143  4.79  2.564790  14.37  11.118571   \n",
      "1961-04-24  2.674571   9.79   5.515714  1.87  3.864882  13.46   8.738571   \n",
      "1961-05-01  3.154130  14.46  10.090000  6.46  5.749862  23.16  15.238571   \n",
      "1961-05-08  2.563213   8.83   4.314286  1.04  3.954757  12.83   7.710000   \n",
      "1961-05-15  0.945241   5.17   4.061429  2.50  2.778473  12.92   7.388571   \n",
      "1961-05-22  2.512797   9.87   5.166638  2.42  2.690396  10.21   7.494286   \n",
      "1961-05-29  1.713568   8.79   5.708571  3.42  2.178466  12.87  10.028571   \n",
      "1961-06-05  1.591727   6.92   5.144286  3.21  2.784139  13.13   9.415714   \n",
      "1961-06-12  2.049174   9.42   6.698571  2.92  3.652138  14.92  11.071429   \n",
      "1961-06-19  1.429752   7.08   5.572857  2.88  1.463038  13.21  11.631429   \n",
      "1961-06-26  2.290163  10.54   7.201429  4.42  3.620018  18.58  11.855714   \n",
      "1961-07-03  2.737307  12.00   6.901429  3.54  2.605228  14.42  11.191429   \n",
      "1961-07-10  3.822026  12.42   8.688571  1.46  5.601850  20.88  13.892857   \n",
      "1961-07-17  0.878025   4.67   3.495714  2.42  0.784016   7.33   6.101429   \n",
      "1961-07-24  2.654483   9.92   5.918571  3.42  4.460730  17.50  10.118571   \n",
      "1961-07-31  1.917053   8.96   6.077143  3.04  3.896676  16.92  11.351429   \n",
      "1961-08-07  2.122852   8.79   5.900000  2.50  3.371495  16.21  11.481429   \n",
      "1961-08-14  2.263533  11.79   9.011429  6.83  3.384522  21.04  15.952857   \n",
      "1961-08-21  2.692811  12.42   7.215714  3.96  3.461240  17.62  12.761429   \n",
      "1961-08-28  2.385655   9.17   4.321429  2.37  5.210803  19.21   7.840000   \n",
      "1961-09-04  2.911201  10.50   6.387143  2.75  2.618185  14.54  10.284286   \n",
      "1961-09-11  5.442028  21.09  10.563781  3.96  7.224157  28.50  14.551429   \n",
      "1961-09-18  1.511565   7.17   4.985714  2.62  3.142814  12.92   9.041429   \n",
      "1961-09-25  1.708837  11.17   8.762857  6.00  3.632120  20.75  13.434286   \n",
      "1961-10-02  3.402165   9.79   5.382857  1.46  3.904394  13.59   8.392857   \n",
      "1961-10-09  2.334972   9.42   6.554286  3.67  2.933686  15.63  11.351429   \n",
      "1961-10-16  4.843390  19.38  12.845714  6.83  6.170903  22.46  15.428571   \n",
      "1961-10-23  5.511350  16.54   7.778571  1.71  7.105294  24.41  12.500000   \n",
      "1961-10-30  2.980133  11.79   7.064286  3.04  3.797385  17.25  10.310000   \n",
      "1961-11-06  4.261044  13.33   6.130000  1.87  2.256736  10.00   7.577143   \n",
      "1961-11-13  2.630129   9.71   4.708571  1.50  1.991711  10.25   7.898571   \n",
      "1961-11-20  1.817636   7.96   5.000000  2.04  2.791700  12.75   8.362857   \n",
      "1961-11-27  4.240649  14.46   7.310000  3.29  4.885580  19.92  11.695714   \n",
      "1961-12-04  4.208137  13.62   9.088571  3.83  4.369076  20.00  13.565714   \n",
      "1961-12-11  3.583386  12.92   7.007143  1.79  3.506427  16.75  12.684286   \n",
      "1961-12-18  5.042345  15.59   6.458571  0.58  4.707738  20.38  12.304286   \n",
      "1961-12-25  4.329580  11.79   6.160000  0.42  3.346692  11.21   6.808571   \n",
      "\n",
      "                          8         ...         14             Year        \\\n",
      "              min       std    max  ...       mean    min       std   max   \n",
      "Date                                ...                                     \n",
      "1961-01-02   4.54  1.997574   8.33  ...  13.458571  10.88  0.000000  1961   \n",
      "1961-01-09   2.29  3.262833   9.46  ...  10.120000   5.17  0.000000  1961   \n",
      "1961-01-16   3.67  3.961887  13.37  ...  13.082857   6.79  0.000000  1961   \n",
      "1961-01-23  10.00  4.193041  19.70  ...  22.340000  17.50  0.000000  1961   \n",
      "1961-01-30   9.87  4.031923  17.62  ...  12.305714   7.17  0.000000  1961   \n",
      "1961-02-06   8.12  2.341971  14.62  ...  18.845714  17.04  0.000000  1961   \n",
      "1961-02-13   9.87  3.010592  15.12  ...  15.512857  10.96  0.000000  1961   \n",
      "1961-02-20   5.96  5.005011  16.88  ...  15.090000   6.67  0.000000  1961   \n",
      "1961-02-27   5.41  2.822336  12.29  ...  12.472726   5.54  0.000000  1961   \n",
      "1961-03-06  10.00  2.480650  13.67  ...  16.325714   8.75  0.000000  1961   \n",
      "1961-03-13   6.83  2.002394  10.75  ...  16.542857  11.34  0.000000  1961   \n",
      "1961-03-20   2.83  2.566909  10.21  ...  17.312857  13.13  0.000000  1961   \n",
      "1961-03-27   4.67  3.218994  14.33  ...  13.048571   7.17  0.000000  1961   \n",
      "1961-04-03   5.88  2.722809  10.83  ...  11.638571   7.21  0.000000  1961   \n",
      "1961-04-10   2.21  2.858096   8.58  ...   8.118571   5.66  0.000000  1961   \n",
      "1961-04-17   7.54  2.597014  11.63  ...  12.642857   4.96  0.000000  1961   \n",
      "1961-04-24   3.88  3.162032  10.17  ...   9.017143   2.67  0.000000  1961   \n",
      "1961-05-01   9.42  3.506160  15.46  ...  16.740000   3.83  0.000000  1961   \n",
      "1961-05-08   3.42  3.276304   9.92  ...   7.828571   3.33  0.000000  1961   \n",
      "1961-05-15   4.17  1.319078   6.79  ...  10.970000   5.91  0.000000  1961   \n",
      "1961-05-22   3.75  2.474375   8.46  ...  12.702857   8.00  0.000000  1961   \n",
      "1961-05-29   7.67  0.995303   7.79  ...  12.787143  10.63  0.000000  1961   \n",
      "1961-06-05   5.66  2.285125   8.63  ...  12.114286   5.96  0.000000  1961   \n",
      "1961-06-12   3.50  2.951496  10.34  ...  15.817143   6.13  0.000000  1961   \n",
      "1961-06-19   8.58  1.549814   8.67  ...  16.660000  11.63  0.000000  1961   \n",
      "1961-06-26   8.04  2.419335  11.38  ...  14.008440   8.50  0.000000  1961   \n",
      "1961-07-03   8.00  2.458105   9.75  ...  13.797143   5.96  0.000000  1961   \n",
      "1961-07-10   5.04  3.579564  13.17  ...  12.977143   9.13  0.000000  1961   \n",
      "1961-07-17   4.96  0.521079   3.88  ...   7.987143   5.41  0.000000  1961   \n",
      "1961-07-24   5.25  3.807680  13.50  ...  14.267143   9.25  0.000000  1961   \n",
      "1961-07-31   6.58  2.337359  10.21  ...  13.218571   5.88  0.000000  1961   \n",
      "1961-08-07   7.58  2.660015  11.46  ...  11.514154   6.83  0.000000  1961   \n",
      "1961-08-14  12.96  2.908837  15.34  ...  17.435714  13.04  0.000000  1961   \n",
      "1961-08-21   7.46  2.818418  13.08  ...  15.700000   8.29  0.000000  1961   \n",
      "1961-08-28   4.25  3.481585  12.12  ...   9.105714   3.37  0.000000  1961   \n",
      "1961-09-04   7.54  2.603694   9.83  ...  12.648571   5.79  0.000000  1961   \n",
      "1961-09-11   5.79  5.244948  20.67  ...  18.204286   9.21  0.000000  1961   \n",
      "1961-09-18   3.88  2.521993   8.00  ...  10.814286   5.25  0.000000  1961   \n",
      "1961-09-25   9.62  1.882488  12.00  ...  13.825714   4.04  0.000000  1961   \n",
      "1961-10-02   3.75  3.504097   9.71  ...  10.440000   4.83  0.000000  1961   \n",
      "1961-10-09   7.29  2.045415  11.04  ...  16.944286  10.75  0.000000  1961   \n",
      "1961-10-16   7.75  3.786797  16.42  ...  23.695714  13.46  0.000000  1961   \n",
      "1961-10-23   4.46  4.898356  15.46  ...  17.778571   9.83  0.000000  1961   \n",
      "1961-10-30   6.00  2.923011  12.21  ...  18.178571  13.37  0.000000  1961   \n",
      "1961-11-06   3.37  2.661233  10.13  ...  10.822857   5.71  0.000000  1961   \n",
      "1961-11-13   5.04  2.767492   8.42  ...   5.088571   2.00  0.000000  1961   \n",
      "1961-11-20   4.17  2.343344   9.83  ...  12.328571   4.25  0.000000  1961   \n",
      "1961-11-27   6.00  3.487457  12.75  ...  16.630000  11.17  0.000000  1961   \n",
      "1961-12-04   7.79  3.788357  14.83  ...  16.117143   7.58  0.000000  1961   \n",
      "1961-12-11   8.71  3.466813  16.42  ...  12.868571   5.91  0.000000  1961   \n",
      "1961-12-18   7.33  4.030838  13.59  ...   9.265714   2.62  0.000000  1961   \n",
      "1961-12-25   2.21  2.632918   7.41  ...  12.025714   6.63  0.377964  1962   \n",
      "\n",
      "                                  Month                     \n",
      "                   mean   min       std max       mean min  \n",
      "Date                                                        \n",
      "1961-01-02  1961.000000  1961  0.000000   1   1.000000   1  \n",
      "1961-01-09  1961.000000  1961  0.000000   1   1.000000   1  \n",
      "1961-01-16  1961.000000  1961  0.000000   1   1.000000   1  \n",
      "1961-01-23  1961.000000  1961  0.000000   1   1.000000   1  \n",
      "1961-01-30  1961.000000  1961  0.377964   2   1.857143   1  \n",
      "1961-02-06  1961.000000  1961  0.000000   2   2.000000   2  \n",
      "1961-02-13  1961.000000  1961  0.000000   2   2.000000   2  \n",
      "1961-02-20  1961.000000  1961  0.000000   2   2.000000   2  \n",
      "1961-02-27  1961.000000  1961  0.377964   3   2.857143   2  \n",
      "1961-03-06  1961.000000  1961  0.000000   3   3.000000   3  \n",
      "1961-03-13  1961.000000  1961  0.000000   3   3.000000   3  \n",
      "1961-03-20  1961.000000  1961  0.000000   3   3.000000   3  \n",
      "1961-03-27  1961.000000  1961  0.534522   4   3.428571   3  \n",
      "1961-04-03  1961.000000  1961  0.000000   4   4.000000   4  \n",
      "1961-04-10  1961.000000  1961  0.000000   4   4.000000   4  \n",
      "1961-04-17  1961.000000  1961  0.000000   4   4.000000   4  \n",
      "1961-04-24  1961.000000  1961  0.377964   5   4.142857   4  \n",
      "1961-05-01  1961.000000  1961  0.000000   5   5.000000   5  \n",
      "1961-05-08  1961.000000  1961  0.000000   5   5.000000   5  \n",
      "1961-05-15  1961.000000  1961  0.000000   5   5.000000   5  \n",
      "1961-05-22  1961.000000  1961  0.000000   5   5.000000   5  \n",
      "1961-05-29  1961.000000  1961  0.487950   6   5.714286   5  \n",
      "1961-06-05  1961.000000  1961  0.000000   6   6.000000   6  \n",
      "1961-06-12  1961.000000  1961  0.000000   6   6.000000   6  \n",
      "1961-06-19  1961.000000  1961  0.000000   6   6.000000   6  \n",
      "1961-06-26  1961.000000  1961  0.534522   7   6.428571   6  \n",
      "1961-07-03  1961.000000  1961  0.000000   7   7.000000   7  \n",
      "1961-07-10  1961.000000  1961  0.000000   7   7.000000   7  \n",
      "1961-07-17  1961.000000  1961  0.000000   7   7.000000   7  \n",
      "1961-07-24  1961.000000  1961  0.000000   7   7.000000   7  \n",
      "1961-07-31  1961.000000  1961  0.000000   8   8.000000   8  \n",
      "1961-08-07  1961.000000  1961  0.000000   8   8.000000   8  \n",
      "1961-08-14  1961.000000  1961  0.000000   8   8.000000   8  \n",
      "1961-08-21  1961.000000  1961  0.000000   8   8.000000   8  \n",
      "1961-08-28  1961.000000  1961  0.534522   9   8.571429   8  \n",
      "1961-09-04  1961.000000  1961  0.000000   9   9.000000   9  \n",
      "1961-09-11  1961.000000  1961  0.000000   9   9.000000   9  \n",
      "1961-09-18  1961.000000  1961  0.000000   9   9.000000   9  \n",
      "1961-09-25  1961.000000  1961  0.487950  10   9.285714   9  \n",
      "1961-10-02  1961.000000  1961  0.000000  10  10.000000  10  \n",
      "1961-10-09  1961.000000  1961  0.000000  10  10.000000  10  \n",
      "1961-10-16  1961.000000  1961  0.000000  10  10.000000  10  \n",
      "1961-10-23  1961.000000  1961  0.000000  10  10.000000  10  \n",
      "1961-10-30  1961.000000  1961  0.377964  11  10.857143  10  \n",
      "1961-11-06  1961.000000  1961  0.000000  11  11.000000  11  \n",
      "1961-11-13  1961.000000  1961  0.000000  11  11.000000  11  \n",
      "1961-11-20  1961.000000  1961  0.000000  11  11.000000  11  \n",
      "1961-11-27  1961.000000  1961  0.534522  12  11.571429  11  \n",
      "1961-12-04  1961.000000  1961  0.000000  12  12.000000  12  \n",
      "1961-12-11  1961.000000  1961  0.000000  12  12.000000  12  \n",
      "1961-12-18  1961.000000  1961  0.000000  12  12.000000  12  \n",
      "1961-12-25  1961.142857  1961  4.157609  12  10.428571   1  \n",
      "\n",
      "[52 rows x 44 columns]\n"
     ]
    }
   ],
   "source": [
    "#Step.15)\n",
    "\n",
    "\n",
    "windspeed_columns = data.columns[3:15]  \n",
    "\n",
    "weekly_stats = data[windspeed_columns].resample('W-MON', label='left').agg({\n",
    "    'min',   \n",
    "    'max',  \n",
    "    'mean',  \n",
    "    'std'    \n",
    "})\n",
    "\n",
    "weekly_stats_52_weeks = weekly_stats.loc['1961-01-02':'1961-12-31']\n",
    "\n",
    "print(weekly_stats_52_weeks.head(52))\n",
    "\n",
    "\n",
    "\n"
   ]
  },
  {
   "cell_type": "code",
   "execution_count": 319,
   "id": "c1a87529-6492-4e98-886c-d83ee6b46dcb",
   "metadata": {},
   "outputs": [],
   "source": [
    "#Question.5)\n",
    "#Step 1. Import the necessary libraries\n",
    "#Step 2. Import the dataset from this address.\n",
    "#Step 3. Assign it to a variable called chipo.\n",
    "#Step 4. See the first 10 entries\n",
    "#Step 5. What is the number of observations in the dataset?\n",
    "#Step 6. What is the number of columns in the dataset?\n",
    "#Step 7. Print the name of all the columns.\n",
    "#Step 8. How is the dataset indexed?\n",
    "#Step 9. Which was the most-ordered item?\n",
    "#Step 10. For the most-ordered item, how many items were ordered?\n",
    "#Step 11. What was the most ordered item in the choice_description column?\n",
    "#Step 12. How many items were orderd in total?\n",
    "#Step 13.\n",
    "#• Turn the item price into a float\n",
    "#• Check the item price type\n",
    "#• Create a lambda function and change the type of item price\n",
    "#• Check the item price type\n",
    "#Step 14. How much was the revenue for the period in the dataset?\n",
    "#Step 15. How many orders were made in the period?\n",
    "#Step 16. What is the average revenue amount per order?\n",
    "#Step 17. How many different items are sold"
   ]
  },
  {
   "cell_type": "code",
   "execution_count": 321,
   "id": "dd566f2a-1e86-47f8-b3e5-a1da0a4b91c7",
   "metadata": {},
   "outputs": [],
   "source": [
    "#Ans.5)\n",
    "\n",
    "#Step.1)\n",
    "import pandas as pd\n"
   ]
  },
  {
   "cell_type": "code",
   "execution_count": 329,
   "id": "3057d895-3db9-410a-9137-66754521300b",
   "metadata": {},
   "outputs": [],
   "source": [
    "#Step.2&3)\n",
    "\n",
    "url = 'https://raw.githubusercontent.com/justmarkham/DAT8/master/data/chipotle.tsv'  \n",
    "chipo = pd.read_csv(url, sep='\\t')\n",
    "\n"
   ]
  },
  {
   "cell_type": "code",
   "execution_count": 331,
   "id": "9e50b952-b650-427d-9ff7-7021628d55c4",
   "metadata": {},
   "outputs": [
    {
     "name": "stdout",
     "output_type": "stream",
     "text": [
      "   order_id  quantity                              item_name  \\\n",
      "0         1         1           Chips and Fresh Tomato Salsa   \n",
      "1         1         1                                   Izze   \n",
      "2         1         1                       Nantucket Nectar   \n",
      "3         1         1  Chips and Tomatillo-Green Chili Salsa   \n",
      "4         2         2                           Chicken Bowl   \n",
      "5         3         1                           Chicken Bowl   \n",
      "6         3         1                          Side of Chips   \n",
      "7         4         1                          Steak Burrito   \n",
      "8         4         1                       Steak Soft Tacos   \n",
      "9         5         1                          Steak Burrito   \n",
      "\n",
      "                                  choice_description item_price  \n",
      "0                                                NaN     $2.39   \n",
      "1                                       [Clementine]     $3.39   \n",
      "2                                            [Apple]     $3.39   \n",
      "3                                                NaN     $2.39   \n",
      "4  [Tomatillo-Red Chili Salsa (Hot), [Black Beans...    $16.98   \n",
      "5  [Fresh Tomato Salsa (Mild), [Rice, Cheese, Sou...    $10.98   \n",
      "6                                                NaN     $1.69   \n",
      "7  [Tomatillo Red Chili Salsa, [Fajita Vegetables...    $11.75   \n",
      "8  [Tomatillo Green Chili Salsa, [Pinto Beans, Ch...     $9.25   \n",
      "9  [Fresh Tomato Salsa, [Rice, Black Beans, Pinto...     $9.25   \n"
     ]
    }
   ],
   "source": [
    "#Step.4)\n",
    "\n",
    "print(chipo.head(10))\n"
   ]
  },
  {
   "cell_type": "code",
   "execution_count": 333,
   "id": "cf962d5c-9493-4011-8a9b-52a8f982a40f",
   "metadata": {},
   "outputs": [
    {
     "name": "stdout",
     "output_type": "stream",
     "text": [
      "Number of observations: 4622\n"
     ]
    }
   ],
   "source": [
    "#Step.5)\n",
    "\n",
    "num_observations = chipo.shape[0]\n",
    "print(f\"Number of observations: {num_observations}\")\n"
   ]
  },
  {
   "cell_type": "code",
   "execution_count": 335,
   "id": "a3200c72-26d4-4c45-a5f5-b1e5fcd084db",
   "metadata": {},
   "outputs": [
    {
     "name": "stdout",
     "output_type": "stream",
     "text": [
      "Number of columns: 5\n"
     ]
    }
   ],
   "source": [
    "#Step.6)\n",
    "\n",
    "num_columns = chipo.shape[1]\n",
    "print(f\"Number of columns: {num_columns}\")\n"
   ]
  },
  {
   "cell_type": "code",
   "execution_count": 337,
   "id": "03f38730-9cad-42a9-abd9-c72fca80be7f",
   "metadata": {},
   "outputs": [
    {
     "name": "stdout",
     "output_type": "stream",
     "text": [
      "Column names: ['order_id', 'quantity', 'item_name', 'choice_description', 'item_price']\n"
     ]
    }
   ],
   "source": [
    "#Step.7)\n",
    "\n",
    "print(\"Column names:\", chipo.columns.tolist())\n"
   ]
  },
  {
   "cell_type": "code",
   "execution_count": 339,
   "id": "e1a4b40b-6cb2-4e14-9d42-258bc6501f37",
   "metadata": {},
   "outputs": [
    {
     "name": "stdout",
     "output_type": "stream",
     "text": [
      "Index of the dataset: RangeIndex(start=0, stop=4622, step=1)\n"
     ]
    }
   ],
   "source": [
    "#Step.8)\n",
    "\n",
    "print(\"Index of the dataset:\", chipo.index)\n"
   ]
  },
  {
   "cell_type": "code",
   "execution_count": 341,
   "id": "21f1039c-0880-4fbf-9336-93106d0f786d",
   "metadata": {},
   "outputs": [
    {
     "name": "stdout",
     "output_type": "stream",
     "text": [
      "The most ordered item was: Chicken Bowl\n"
     ]
    }
   ],
   "source": [
    "#step.9)\n",
    "\n",
    "most_ordered_item = chipo['item_name'].value_counts().idxmax()\n",
    "print(f\"The most ordered item was: {most_ordered_item}\")\n"
   ]
  },
  {
   "cell_type": "code",
   "execution_count": 343,
   "id": "bf6cac74-9d28-446c-9209-49f4045e294e",
   "metadata": {},
   "outputs": [
    {
     "name": "stdout",
     "output_type": "stream",
     "text": [
      "The most ordered item was ordered 726 times.\n"
     ]
    }
   ],
   "source": [
    "#Step.10)\n",
    "\n",
    "most_ordered_item_count = chipo[chipo['item_name'] == most_ordered_item].shape[0]\n",
    "print(f\"The most ordered item was ordered {most_ordered_item_count} times.\")\n"
   ]
  },
  {
   "cell_type": "code",
   "execution_count": 345,
   "id": "76b68ffb-61fc-4c79-878c-6d33a68584dc",
   "metadata": {},
   "outputs": [
    {
     "name": "stdout",
     "output_type": "stream",
     "text": [
      "The most ordered item in the choice_description column was: [Diet Coke]\n"
     ]
    }
   ],
   "source": [
    "#Step.11)\n",
    "\n",
    "most_ordered_choice_description = chipo['choice_description'].value_counts().idxmax()\n",
    "print(f\"The most ordered item in the choice_description column was: {most_ordered_choice_description}\")\n"
   ]
  },
  {
   "cell_type": "code",
   "execution_count": 347,
   "id": "3abb46e6-2b14-443d-8d6c-5c291cde919f",
   "metadata": {},
   "outputs": [
    {
     "name": "stdout",
     "output_type": "stream",
     "text": [
      "Total items ordered: 4972\n"
     ]
    }
   ],
   "source": [
    "#step.12)\n",
    "\n",
    "total_items_ordered = chipo['quantity'].sum()\n",
    "print(f\"Total items ordered: {total_items_ordered}\")\n"
   ]
  },
  {
   "cell_type": "code",
   "execution_count": 353,
   "id": "0fca8b8f-5ab8-460a-b74a-8b82885a14bb",
   "metadata": {},
   "outputs": [
    {
     "name": "stdout",
     "output_type": "stream",
     "text": [
      "Item price type before change: float64\n",
      "Item price type after change: float64\n"
     ]
    }
   ],
   "source": [
    "#Step.13)\n",
    "\n",
    "chipo['item_price'] = chipo['item_price'].replace({r'\\$': '', ',': ''}, regex=True).astype(float)\n",
    "\n",
    "print(f\"Item price type before change: {chipo['item_price'].dtype}\")\n",
    "\n",
    "chipo['item_price'] = chipo['item_price'].apply(lambda x: float(x))\n",
    "\n",
    "print(f\"Item price type after change: {chipo['item_price'].dtype}\")\n"
   ]
  },
  {
   "cell_type": "code",
   "execution_count": 357,
   "id": "d4eaa83f-78b5-479b-9ca3-76d8a4fae454",
   "metadata": {},
   "outputs": [
    {
     "name": "stdout",
     "output_type": "stream",
     "text": [
      "Total revenue: $39237.02\n"
     ]
    }
   ],
   "source": [
    "#Step.14)\n",
    "\n",
    "chipo['revenue'] = chipo['item_price'] * chipo['quantity']\n",
    "\n",
    "total_revenue = chipo['revenue'].sum()\n",
    "print(f\"Total revenue: ${total_revenue:.2f}\")\n"
   ]
  },
  {
   "cell_type": "code",
   "execution_count": 359,
   "id": "d240104c-3f8e-43f6-a98a-e290426e50a4",
   "metadata": {},
   "outputs": [
    {
     "name": "stdout",
     "output_type": "stream",
     "text": [
      "Total number of orders: 1834\n"
     ]
    }
   ],
   "source": [
    "#Step.15)\n",
    "\n",
    "\n",
    "num_orders = chipo['order_id'].nunique()\n",
    "print(f\"Total number of orders: {num_orders}\")\n"
   ]
  },
  {
   "cell_type": "code",
   "execution_count": 361,
   "id": "f61cd8e0-7dd7-44ce-929c-15a90d87b5aa",
   "metadata": {},
   "outputs": [
    {
     "name": "stdout",
     "output_type": "stream",
     "text": [
      "Average revenue per order: $21.39\n"
     ]
    }
   ],
   "source": [
    "#Step.16)\n",
    "\n",
    "avg_revenue_per_order = total_revenue / num_orders\n",
    "print(f\"Average revenue per order: ${avg_revenue_per_order:.2f}\")\n"
   ]
  },
  {
   "cell_type": "code",
   "execution_count": 363,
   "id": "aff99d57-336d-464c-96f6-45c6246d6a37",
   "metadata": {},
   "outputs": [
    {
     "name": "stdout",
     "output_type": "stream",
     "text": [
      "Number of different items sold: 50\n"
     ]
    }
   ],
   "source": [
    "#Step.17)\n",
    "\n",
    "num_different_items = chipo['item_name'].nunique()\n",
    "print(f\"Number of different items sold: {num_different_items}\")\n"
   ]
  },
  {
   "cell_type": "code",
   "execution_count": 365,
   "id": "c4cba6e2-a282-42e5-9165-3c81d457c1d0",
   "metadata": {},
   "outputs": [],
   "source": [
    "#Question.6)\n",
    "\n",
    "#Create a line plot showing the number of marriages and divorces per capita in the \n",
    "#U.S. between 1867 and 2014. Label both lines and show the legend.\n",
    "#Don't forget to label your axes!"
   ]
  },
  {
   "cell_type": "code",
   "execution_count": 379,
   "id": "b9af72ac-f182-4d3b-a64e-c62b4eb0b9eb",
   "metadata": {},
   "outputs": [
    {
     "name": "stdout",
     "output_type": "stream",
     "text": [
      "Index(['Year', 'Marriages', 'Divorces', 'Population', 'Marriages_per_1000',\n",
      "       'Divorces_per_1000'],\n",
      "      dtype='object')\n"
     ]
    },
    {
     "data": {
      "image/png": "[encoded data removed]",
      "text/plain": [
       "<Figure size 1000x600 with 1 Axes>"
      ]
     },
     "metadata": {},
     "output_type": "display_data"
    }
   ],
   "source": [
    "import matplotlib.pyplot as plt\n",
    "import pandas as pd\n",
    "\n",
    "df = pd.read_csv(r'C:\\Users\\nirav\\OneDrive\\Desktop\\Georgian\\DA programming\\us-marriages-divorces-1867-2014.csv')  \n",
    "\n",
    "df.columns = df.columns.str.strip()\n",
    "\n",
    "print(df.columns)\n",
    "\n",
    "plt.figure(figsize=(10,6))\n",
    "\n",
    "plt.plot(df['Year'], df['Marriages_per_1000'], label='Marriages per 1000', color='blue', marker='o')\n",
    "\n",
    "plt.plot(df['Year'], df['Divorces_per_1000'], label='Divorces per 1000', color='red', marker='x')\n",
    "\n",
    "plt.xlabel('Year')\n",
    "plt.ylabel('Rate per 1000 people')\n",
    "\n",
    "plt.title('Marriages and Divorces per 1000 People in the U.S. (1867-2014)')\n",
    "\n",
    "plt.legend()\n",
    "\n",
    "plt.grid(True)\n",
    "plt.show()\n"
   ]
  },
  {
   "cell_type": "code",
   "execution_count": 381,
   "id": "fd385d56-69d7-402a-988c-0ef52efab6af",
   "metadata": {},
   "outputs": [],
   "source": [
    "#Question.7)\n",
    "\n",
    "#Create a vertical bar chart comparing the number of marriages and divorces per \n",
    "#capita in the U.S. between 1900, 1950, and 2000.\n",
    "#Don't forget to label your axes!\n"
   ]
  },
  {
   "cell_type": "code",
   "execution_count": 390,
   "id": "0afa8b8b-4119-49cf-abc4-c131f4aadd98",
   "metadata": {},
   "outputs": [
    {
     "data": {
      "image/png": "[encoded data removed]",
      "text/plain": [
       "<Figure size 1000x600 with 1 Axes>"
      ]
     },
     "metadata": {},
     "output_type": "display_data"
    }
   ],
   "source": [
    "#Ans.7)\n",
    "\n",
    "import matplotlib.pyplot as plt\n",
    "import pandas as pd\n",
    "\n",
    "df = pd.read_csv(r'C:\\Users\\nirav\\OneDrive\\Desktop\\Georgian\\DA programming\\us-marriages-divorces-1867-2014.csv')  \n",
    "df.columns = df.columns.str.strip()\n",
    "\n",
    "years = [1900, 1950, 2000]\n",
    "filtered_data = df[df['Year'].isin(years)]\n",
    "\n",
    "fig, ax = plt.subplots(figsize=(10,6))\n",
    "\n",
    "bar_width = 0.35  \n",
    "index = range(len(years))  \n",
    "\n",
    "ax.bar(index, filtered_data['Marriages_per_1000'], bar_width, label='Marriages per 1000', color='red')\n",
    "\n",
    "ax.bar([p + bar_width for p in index], filtered_data['Divorces_per_1000'], bar_width, label='Divorces per 1000', color='yellow')\n",
    "\n",
    "ax.set_xlabel('Year')\n",
    "ax.set_ylabel('Rate per 1000 people')\n",
    "\n",
    "ax.set_title('Comparison of Marriages and Divorces per Capita (1900, 1950, 2000)')\n",
    "\n",
    "ax.set_xticks([p + bar_width / 2 for p in index])\n",
    "ax.set_xticklabels(years)\n",
    "\n",
    "ax.legend()\n",
    "\n",
    "plt.show()\n",
    "\n"
   ]
  },
  {
   "cell_type": "code",
   "execution_count": 392,
   "id": "d40df4d8-f687-4bc0-b29c-9e11f6adf66a",
   "metadata": {},
   "outputs": [],
   "source": [
    "#Question.8)\n",
    "\n",
    "#Create a horizontal bar chart that compares the deadliest actors in Hollywood. Sort \n",
    "#the actors by their kill count and label each bar with the corresponding actor's name.\n",
    "#Don't forget to label your axes!"
   ]
  },
  {
   "cell_type": "code",
   "execution_count": 413,
   "id": "85594bb7-d9ea-4b96-8b67-1000fc6c41d2",
   "metadata": {},
   "outputs": [
    {
     "data": {
      "image/png": "[encoded data removed]",
      "text/plain": [
       "<Figure size 1000x600 with 1 Axes>"
      ]
     },
     "metadata": {},
     "output_type": "display_data"
    }
   ],
   "source": [
    "#Ans.8)\n",
    "\n",
    "import pandas as pd\n",
    "import matplotlib.pyplot as plt\n",
    "\n",
    "df = pd.read_csv(r'C:\\Users\\nirav\\OneDrive\\Desktop\\Georgian\\DA programming\\actor_kill_counts.csv')\n",
    "\n",
    "df.columns = df.columns.str.strip()  \n",
    "\n",
    "df = df.sort_values(by='Count', ascending=True)\n",
    "\n",
    "plt.figure(figsize=(10, 6))\n",
    "plt.barh(df['Actor'], df['Count'], color='red')\n",
    "\n",
    "for index, value in enumerate(df['Count']):\n",
    "    plt.text(value, index, str(value))  \n",
    "\n",
    "plt.xlabel('Kill Count')\n",
    "plt.ylabel('Actor')\n",
    "plt.title('Deadliest Actors in Hollywood (By Kill Count)')\n",
    "\n",
    "\n",
    "plt.show()\n",
    "\n",
    "\n",
    "\n"
   ]
  },
  {
   "cell_type": "code",
   "execution_count": 409,
   "id": "3cfaa5d6-33ff-48c2-9740-947772c8ed7d",
   "metadata": {},
   "outputs": [],
   "source": [
    "#Question.9)\n",
    "\n",
    "#Create a pie chart showing the fraction of all Roman Emperors that were assassinated.\n",
    "#Make sure that the pie chart is an even circle, labels the categories, and shows the percentage breakdown of the categories"
   ]
  },
  {
   "cell_type": "code",
   "execution_count": 415,
   "id": "663758a7-2e2d-42b5-a004-3db60ca0a56d",
   "metadata": {},
   "outputs": [
    {
     "data": {
      "image/png": "[encoded data removed]",
      "text/plain": [
       "<Figure size 800x800 with 1 Axes>"
      ]
     },
     "metadata": {},
     "output_type": "display_data"
    }
   ],
   "source": [
    "#Ans.9)\n",
    "\n",
    "import pandas as pd\n",
    "import matplotlib.pyplot as plt\n",
    "\n",
    "df = pd.read_csv(r'C:\\Users\\nirav\\OneDrive\\Desktop\\Georgian\\DA programming\\roman-emperor-reigns.csv')\n",
    "\n",
    "cause_of_death_counts = df['Cause_of_Death'].value_counts()\n",
    "\n",
    "labels = cause_of_death_counts.index\n",
    "sizes = cause_of_death_counts.values\n",
    "\n",
    "plt.figure(figsize=(8, 8))  \n",
    "\n",
    "plt.pie(\n",
    "    sizes, \n",
    "    labels=labels, \n",
    "    autopct='%1.1f%%', \n",
    "    startangle=90, \n",
    "    colors=['blue', 'red', 'green', 'silver'] \n",
    ")\n",
    "\n",
    "plt.title('Fraction of Roman Emperors by Cause of Death')\n",
    "\n",
    "plt.show()\n"
   ]
  },
  {
   "cell_type": "code",
   "execution_count": 417,
   "id": "2709433e-3c18-42b4-98a6-c13385a1e0a4",
   "metadata": {},
   "outputs": [],
   "source": [
    "#Question.10)\n",
    "\n",
    "#Create a scatter plot showing the relationship between the total revenue earned by arcades and the number of Computer Science PhDs awarded in the U.S. between \n",
    "#2000 and 2009.\n",
    "#Don't forget to label your axes!\n",
    "#Color each dot according to its year"
   ]
  },
  {
   "cell_type": "code",
   "execution_count": 425,
   "id": "9cbccc20-0471-4c1c-8809-c81695f39fac",
   "metadata": {},
   "outputs": [
    {
     "name": "stdout",
     "output_type": "stream",
     "text": [
      "Index(['Year', 'Total Arcade Revenue (billions)',\n",
      "       'Computer Science Doctorates Awarded (US)'],\n",
      "      dtype='object')\n"
     ]
    },
    {
     "data": {
      "image/png": "[encoded data removed]",
      "text/plain": [
       "<Figure size 1000x600 with 2 Axes>"
      ]
     },
     "metadata": {},
     "output_type": "display_data"
    }
   ],
   "source": [
    "#Ans.10)\n",
    "\n",
    "\n",
    "import pandas as pd\n",
    "import matplotlib.pyplot as plt\n",
    "\n",
    "df = pd.read_csv(r'C:\\Users\\nirav\\OneDrive\\Desktop\\Georgian\\DA programming\\arcade-revenue-vs-cs-doctorates.csv')\n",
    "\n",
    "df.columns = df.columns.str.strip()\n",
    "\n",
    "print(df.columns) \n",
    "\n",
    "plt.figure(figsize=(10, 6))\n",
    "\n",
    "scatter = plt.scatter(\n",
    "    df['Total Arcade Revenue (billions)'], \n",
    "    df['Computer Science Doctorates Awarded (US)'], \n",
    "    c=df['Year'],  \n",
    "    cmap='plasma',  \n",
    "    edgecolor='k',  \n",
    "    s=100  \n",
    ")\n",
    "\n",
    "colorbar = plt.colorbar(scatter)\n",
    "colorbar.set_label('Year')\n",
    "\n",
    "plt.xlabel('Total Arcade Revenue (billions)')\n",
    "plt.ylabel('Computer Science Doctorates Awarded (US)')\n",
    "plt.title('Arcade Revenue vs. CS Doctorates Awarded (2000-2009)')\n",
    "\n",
    "plt.grid(True)\n",
    "plt.show()\n",
    "\n"
   ]
  },
  {
   "cell_type": "code",
   "execution_count": null,
   "id": "34a366a0-7826-439e-802c-ac4148f727e6",
   "metadata": {},
   "outputs": [],
   "source": []
  }
 ],
 "metadata": {
  "kernelspec": {
   "display_name": "Python 3 (ipykernel)",
   "language": "python",
   "name": "python3"
  },
  "language_info": {
   "codemirror_mode": {
    "name": "ipython",
    "version": 3
   },
   "file_extension": ".py",
   "mimetype": "text/x-python",
   "name": "python",
   "nbconvert_exporter": "python",
   "pygments_lexer": "ipython3",
   "version": "3.12.4"
  }
 },
 "nbformat": 4,
 "nbformat_minor": 5
}
